{
 "cells": [
  {
   "cell_type": "code",
   "execution_count": 1,
   "metadata": {},
   "outputs": [
    {
     "name": "stderr",
     "output_type": "stream",
     "text": [
      "/home/saya/chario/upstream_character_tasks/.venv/lib/python3.9/site-packages/fuzzywuzzy/fuzz.py:11: UserWarning: Using slow pure-python SequenceMatcher. Install python-Levenshtein to remove this warning\n",
      "  warnings.warn('Using slow pure-python SequenceMatcher. Install python-Levenshtein to remove this warning')\n"
     ]
    }
   ],
   "source": [
    "import utils\n",
    "from jsonl_dump import download_parse_delivered_into_jsonl"
   ]
  },
  {
   "cell_type": "code",
   "execution_count": 2,
   "metadata": {},
   "outputs": [
    {
     "name": "stdout",
     "output_type": "stream",
     "text": [
      "Download progress: 100%.\n",
      "Download progress: 100%.\n",
      "Error parsing notebook: Failed to predict missing roles.\n",
      "Download progress: 100%.\n"
     ]
    },
    {
     "name": "stderr",
     "output_type": "stream",
     "text": [
      "Traceback (most recent call last):\n",
      "  File \"/home/saya/chario/upstream_character_tasks/operations/delivery/split_analytics/jsonl_dump.py\", line 87, in predict_role\n",
      "    llm_client = LLMAPIFactory().get()\n",
      "TypeError: __init__() missing 1 required positional argument: 'secrets_file_path'\n"
     ]
    },
    {
     "name": "stdout",
     "output_type": "stream",
     "text": [
      "Download progress: 100%.\n",
      "Download progress: 100%.\n",
      "Download progress: 100%.\n",
      "Download progress: 100%.\n",
      "Download progress: 100%.\n",
      "Download progress: 100%.\n",
      "Download progress: 100%.\n",
      "Download progress: 100%.\n",
      "Download progress: 100%.\n",
      "Download progress: 100%.\n",
      "Download progress: 100%.\n",
      "Download progress: 100%.\n",
      "Download progress: 100%.\n",
      "Download progress: 100%.\n",
      "Download progress: 100%.\n",
      "Download progress: 100%.\n",
      "Download progress: 100%.\n",
      "Download progress: 100%.\n",
      "Download progress: 100%.\n",
      "Download progress: 100%.\n",
      "Download progress: 100%.\n",
      "Download progress: 100%.\n",
      "Download progress: 100%.\n",
      "Download progress: 100%.\n",
      "Download progress: 100%.\n",
      "Download progress: 100%.\n",
      "Download progress: 100%.\n",
      "Download progress: 100%.\n",
      "Download progress: 100%.\n",
      "Download progress: 100%.\n",
      "Download progress: 100%.\n",
      "Download progress: 100%.\n",
      "Download progress: 100%.\n",
      "Download progress: 100%.\n",
      "Download progress: 100%.\n",
      "Download progress: 100%.\n",
      "Download progress: 100%.\n",
      "Download progress: 100%.\n",
      "Download progress: 100%.\n",
      "Download progress: 100%.\n",
      "Download progress: 100%.\n",
      "Download progress: 100%.\n",
      "Download progress: 100%.\n",
      "Download progress: 100%.\n",
      "Download progress: 100%.\n",
      "Download progress: 100%.\n",
      "Download progress: 100%.\n",
      "Download progress: 100%.\n",
      "Download progress: 100%.\n",
      "Download progress: 100%.\n",
      "Download progress: 100%.\n",
      "Download progress: 100%.\n",
      "Download progress: 100%.\n",
      "Download progress: 100%.\n",
      "Download progress: 100%.\n",
      "Download progress: 100%.\n",
      "Download progress: 100%.\n",
      "Download progress: 100%.\n",
      "Download progress: 100%.\n",
      "Error parsing notebook: Failed to predict missing roles.\n",
      "Download progress: 100%.\n",
      "Download progress: 100%.\n"
     ]
    },
    {
     "name": "stderr",
     "output_type": "stream",
     "text": [
      "Traceback (most recent call last):\n",
      "  File \"/home/saya/chario/upstream_character_tasks/operations/delivery/split_analytics/jsonl_dump.py\", line 87, in predict_role\n",
      "    llm_client = LLMAPIFactory().get()\n",
      "TypeError: __init__() missing 1 required positional argument: 'secrets_file_path'\n"
     ]
    },
    {
     "name": "stdout",
     "output_type": "stream",
     "text": [
      "Download progress: 100%.\n",
      "Download progress: 100%.\n",
      "Download progress: 100%.\n",
      "Download progress: 100%.\n",
      "Download progress: 100%.\n",
      "Download progress: 100%.\n",
      "Download progress: 100%.\n",
      "Error parsing notebook: Failed to predict missing roles.\n"
     ]
    },
    {
     "name": "stderr",
     "output_type": "stream",
     "text": [
      "Traceback (most recent call last):\n",
      "  File \"/home/saya/chario/upstream_character_tasks/operations/delivery/split_analytics/jsonl_dump.py\", line 87, in predict_role\n",
      "    llm_client = LLMAPIFactory().get()\n",
      "TypeError: __init__() missing 1 required positional argument: 'secrets_file_path'\n"
     ]
    },
    {
     "name": "stdout",
     "output_type": "stream",
     "text": [
      "Download progress: 100%.\n",
      "Download progress: 100%.\n",
      "Download progress: 100%.\n",
      "Download progress: 100%.\n",
      "Download progress: 100%.\n",
      "Download progress: 100%.\n",
      "Download progress: 100%.\n",
      "Download progress: 100%.\n",
      "Download progress: 100%.\n",
      "Download progress: 100%.\n",
      "Download progress: 100%.\n",
      "Download progress: 100%.\n",
      "Download progress: 100%.\n",
      "Download progress: 100%.\n",
      "Download progress: 100%.\n",
      "Download progress: 100%.Download progress: 100%.\n",
      "\n",
      "Download progress: 100%.\n",
      "Download progress: 100%.\n",
      "Download progress: 100%.\n",
      "Download progress: 100%.\n",
      "Download progress: 100%.\n",
      "Download progress: 100%.\n",
      "Download progress: 100%.\n",
      "Download progress: 100%.\n",
      "Download progress: 100%.\n",
      "Download progress: 100%.\n",
      "Download progress: 100%.\n",
      "Download progress: 100%.\n",
      "Download progress: 100%.\n",
      "Download progress: 100%.\n",
      "Download progress: 100%.\n",
      "Download progress: 100%.\n",
      "Download progress: 100%.\n",
      "Download progress: 100%.\n",
      "Download progress: 100%.\n",
      "Download progress: 100%.\n",
      "Download progress: 100%.\n",
      "Download progress: 100%.\n",
      "Download progress: 100%.\n",
      "Download progress: 100%.\n",
      "Download progress: 100%.\n",
      "Download progress: 100%.\n",
      "Download progress: 100%.\n",
      "Download progress: 100%.\n",
      "Download progress: 100%.\n",
      "Download progress: 100%.\n",
      "Download progress: 100%.\n",
      "Download progress: 100%.\n",
      "Download progress: 100%.\n",
      "Download progress: 100%.\n",
      "Download progress: 100%.\n",
      "Download progress: 100%.\n",
      "Download progress: 100%.\n",
      "Download progress: 100%.\n",
      "Download progress: 100%.\n",
      "Download progress: 100%.\n",
      "Download progress: 100%.\n",
      "Download progress: 100%.\n",
      "Download progress: 100%.\n",
      "Download progress: 100%.\n",
      "Download progress: 100%.\n",
      "Download progress: 100%.\n",
      "Download progress: 100%.\n",
      "Download progress: 100%.\n",
      "Download progress: 100%.\n",
      "Download progress: 100%.\n",
      "Download progress: 100%.\n",
      "Download progress: 100%.\n",
      "Download progress: 100%.\n",
      "Download progress: 100%.\n",
      "Download progress: 100%.\n",
      "Download progress: 100%.\n",
      "Download progress: 100%.\n",
      "Download progress: 100%.\n",
      "Download progress: 100%.\n",
      "Download progress: 100%.\n",
      "Download progress: 100%.\n",
      "Download progress: 100%.\n",
      "Download progress: 100%.\n",
      "Download progress: 100%.\n",
      "Download progress: 100%.\n",
      "Download progress: 100%.\n",
      "Download progress: 100%.\n",
      "Download progress: 100%.\n",
      "Download progress: 100%.\n",
      "Download progress: 100%.\n",
      "Download progress: 100%.\n",
      "Download progress: 100%.\n",
      "Download progress: 100%.\n",
      "Download progress: 100%.\n",
      "Download progress: 100%.\n",
      "Download progress: 100%.\n",
      "Download progress: 100%.\n",
      "Download progress: 100%.\n",
      "Download progress: 100%.\n",
      "Download progress: 100%.\n",
      "Download progress: 100%.\n",
      "Download progress: 100%.\n",
      "Download progress: 100%.\n",
      "Download progress: 100%.\n",
      "Download progress: 100%.\n",
      "Download progress: 100%.\n",
      "Download progress: 100%.\n",
      "Download progress: 100%.\n",
      "Download progress: 100%.\n",
      "Download progress: 100%.\n",
      "Download progress: 100%.\n",
      "Download progress: 100%.\n",
      "Download progress: 100%.\n",
      "Download progress: 100%.\n",
      "Download progress: 100%.\n",
      "Download progress: 100%.\n",
      "Download progress: 100%.\n",
      "Download progress: 100%.\n",
      "Download progress: 100%.\n",
      "Download progress: 100%.\n",
      "Download progress: 100%.\n",
      "Download progress: 100%.\n",
      "Download progress: 100%.\n",
      "Download progress: 100%.\n",
      "Download progress: 100%.\n",
      "Download progress: 100%.\n",
      "Download progress: 100%.\n"
     ]
    },
    {
     "ename": "KeyboardInterrupt",
     "evalue": "",
     "output_type": "error",
     "traceback": [
      "\u001b[0;31m---------------------------------------------------------------------------\u001b[0m",
      "\u001b[0;31mKeyboardInterrupt\u001b[0m                         Traceback (most recent call last)",
      "Cell \u001b[0;32mIn[2], line 1\u001b[0m\n\u001b[0;32m----> 1\u001b[0m delivered4 \u001b[38;5;241m=\u001b[39m \u001b[43mdownload_parse_delivered_into_jsonl\u001b[49m\u001b[43m(\u001b[49m\u001b[43m[\u001b[49m\u001b[38;5;241;43m1\u001b[39;49m\u001b[43m]\u001b[49m\u001b[43m)\u001b[49m\n",
      "File \u001b[0;32m~/chario/upstream_character_tasks/operations/delivery/split_analytics/jsonl_dump.py:207\u001b[0m, in \u001b[0;36mdownload_parse_delivered_into_jsonl\u001b[0;34m(batch_ids, max_workers, no_work)\u001b[0m\n\u001b[1;32m    205\u001b[0m \u001b[38;5;28;01mwith\u001b[39;00m concurrent\u001b[38;5;241m.\u001b[39mfutures\u001b[38;5;241m.\u001b[39mThreadPoolExecutor(max_workers\u001b[38;5;241m=\u001b[39mmax_workers) \u001b[38;5;28;01mas\u001b[39;00m executor:\n\u001b[1;32m    206\u001b[0m     file_ids \u001b[38;5;241m=\u001b[39m [link\u001b[38;5;241m.\u001b[39msplit(\u001b[38;5;124m\"\u001b[39m\u001b[38;5;124m/\u001b[39m\u001b[38;5;124m\"\u001b[39m)[\u001b[38;5;241m-\u001b[39m\u001b[38;5;241m1\u001b[39m] \u001b[38;5;28;01mfor\u001b[39;00m link \u001b[38;5;129;01min\u001b[39;00m delivered_df[\u001b[38;5;124m\"\u001b[39m\u001b[38;5;124mtask_link\u001b[39m\u001b[38;5;124m\"\u001b[39m]]\n\u001b[0;32m--> 207\u001b[0m     parsed_conversations \u001b[38;5;241m=\u001b[39m \u001b[38;5;28;43mlist\u001b[39;49m\u001b[43m(\u001b[49m\n\u001b[1;32m    208\u001b[0m \u001b[43m        \u001b[49m\u001b[43mexecutor\u001b[49m\u001b[38;5;241;43m.\u001b[39;49m\u001b[43mmap\u001b[49m\u001b[43m(\u001b[49m\n\u001b[1;32m    209\u001b[0m \u001b[43m            \u001b[49m\u001b[43mdownload_and_parse_notebook\u001b[49m\u001b[43m,\u001b[49m\n\u001b[1;32m    210\u001b[0m \u001b[43m            \u001b[49m\u001b[43m[\u001b[49m\u001b[43mservice_account_path\u001b[49m\u001b[43m]\u001b[49m\u001b[43m \u001b[49m\u001b[38;5;241;43m*\u001b[39;49m\u001b[43m \u001b[49m\u001b[38;5;28;43mlen\u001b[39;49m\u001b[43m(\u001b[49m\u001b[43mfile_ids\u001b[49m\u001b[43m)\u001b[49m\u001b[43m,\u001b[49m\n\u001b[1;32m    211\u001b[0m \u001b[43m            \u001b[49m\u001b[43mfile_ids\u001b[49m\u001b[43m,\u001b[49m\n\u001b[1;32m    212\u001b[0m \u001b[43m        \u001b[49m\u001b[43m)\u001b[49m\n\u001b[1;32m    213\u001b[0m \u001b[43m    \u001b[49m\u001b[43m)\u001b[49m\n\u001b[1;32m    215\u001b[0m \u001b[38;5;28;01mfor\u001b[39;00m conversation \u001b[38;5;129;01min\u001b[39;00m parsed_conversations:\n\u001b[1;32m    216\u001b[0m     \u001b[38;5;28;01mif\u001b[39;00m conversation \u001b[38;5;129;01mis\u001b[39;00m \u001b[38;5;28;01mNone\u001b[39;00m:\n",
      "File \u001b[0;32m~/.pyenv/versions/3.9.18/lib/python3.9/concurrent/futures/_base.py:609\u001b[0m, in \u001b[0;36mExecutor.map.<locals>.result_iterator\u001b[0;34m()\u001b[0m\n\u001b[1;32m    606\u001b[0m \u001b[38;5;28;01mwhile\u001b[39;00m fs:\n\u001b[1;32m    607\u001b[0m     \u001b[38;5;66;03m# Careful not to keep a reference to the popped future\u001b[39;00m\n\u001b[1;32m    608\u001b[0m     \u001b[38;5;28;01mif\u001b[39;00m timeout \u001b[38;5;129;01mis\u001b[39;00m \u001b[38;5;28;01mNone\u001b[39;00m:\n\u001b[0;32m--> 609\u001b[0m         \u001b[38;5;28;01myield\u001b[39;00m \u001b[43mfs\u001b[49m\u001b[38;5;241;43m.\u001b[39;49m\u001b[43mpop\u001b[49m\u001b[43m(\u001b[49m\u001b[43m)\u001b[49m\u001b[38;5;241;43m.\u001b[39;49m\u001b[43mresult\u001b[49m\u001b[43m(\u001b[49m\u001b[43m)\u001b[49m\n\u001b[1;32m    610\u001b[0m     \u001b[38;5;28;01melse\u001b[39;00m:\n\u001b[1;32m    611\u001b[0m         \u001b[38;5;28;01myield\u001b[39;00m fs\u001b[38;5;241m.\u001b[39mpop()\u001b[38;5;241m.\u001b[39mresult(end_time \u001b[38;5;241m-\u001b[39m time\u001b[38;5;241m.\u001b[39mmonotonic())\n",
      "File \u001b[0;32m~/.pyenv/versions/3.9.18/lib/python3.9/concurrent/futures/_base.py:441\u001b[0m, in \u001b[0;36mFuture.result\u001b[0;34m(self, timeout)\u001b[0m\n\u001b[1;32m    438\u001b[0m \u001b[38;5;28;01melif\u001b[39;00m \u001b[38;5;28mself\u001b[39m\u001b[38;5;241m.\u001b[39m_state \u001b[38;5;241m==\u001b[39m FINISHED:\n\u001b[1;32m    439\u001b[0m     \u001b[38;5;28;01mreturn\u001b[39;00m \u001b[38;5;28mself\u001b[39m\u001b[38;5;241m.\u001b[39m__get_result()\n\u001b[0;32m--> 441\u001b[0m \u001b[38;5;28;43mself\u001b[39;49m\u001b[38;5;241;43m.\u001b[39;49m\u001b[43m_condition\u001b[49m\u001b[38;5;241;43m.\u001b[39;49m\u001b[43mwait\u001b[49m\u001b[43m(\u001b[49m\u001b[43mtimeout\u001b[49m\u001b[43m)\u001b[49m\n\u001b[1;32m    443\u001b[0m \u001b[38;5;28;01mif\u001b[39;00m \u001b[38;5;28mself\u001b[39m\u001b[38;5;241m.\u001b[39m_state \u001b[38;5;129;01min\u001b[39;00m [CANCELLED, CANCELLED_AND_NOTIFIED]:\n\u001b[1;32m    444\u001b[0m     \u001b[38;5;28;01mraise\u001b[39;00m CancelledError()\n",
      "File \u001b[0;32m~/.pyenv/versions/3.9.18/lib/python3.9/threading.py:312\u001b[0m, in \u001b[0;36mCondition.wait\u001b[0;34m(self, timeout)\u001b[0m\n\u001b[1;32m    310\u001b[0m \u001b[38;5;28;01mtry\u001b[39;00m:    \u001b[38;5;66;03m# restore state no matter what (e.g., KeyboardInterrupt)\u001b[39;00m\n\u001b[1;32m    311\u001b[0m     \u001b[38;5;28;01mif\u001b[39;00m timeout \u001b[38;5;129;01mis\u001b[39;00m \u001b[38;5;28;01mNone\u001b[39;00m:\n\u001b[0;32m--> 312\u001b[0m         \u001b[43mwaiter\u001b[49m\u001b[38;5;241;43m.\u001b[39;49m\u001b[43macquire\u001b[49m\u001b[43m(\u001b[49m\u001b[43m)\u001b[49m\n\u001b[1;32m    313\u001b[0m         gotit \u001b[38;5;241m=\u001b[39m \u001b[38;5;28;01mTrue\u001b[39;00m\n\u001b[1;32m    314\u001b[0m     \u001b[38;5;28;01melse\u001b[39;00m:\n",
      "\u001b[0;31mKeyboardInterrupt\u001b[0m: "
     ]
    }
   ],
   "source": [
    "delivered4 = download_parse_delivered_into_jsonl([1])"
   ]
  },
  {
   "cell_type": "code",
   "execution_count": 4,
   "metadata": {},
   "outputs": [],
   "source": [
    "delivered_df = delivered4['delivered_df']\n",
    "conversations = delivered4['conversations']"
   ]
  },
  {
   "cell_type": "code",
   "execution_count": null,
   "metadata": {},
   "outputs": [],
   "source": [
    "delivered4 = download_parse_delivered_into_jsonl([1,2,3,4], no_work=True)"
   ]
  }
 ],
 "metadata": {
  "kernelspec": {
   "display_name": ".venv",
   "language": "python",
   "name": "python3"
  },
  "language_info": {
   "codemirror_mode": {
    "name": "ipython",
    "version": 3
   },
   "file_extension": ".py",
   "mimetype": "text/x-python",
   "name": "python",
   "nbconvert_exporter": "python",
   "pygments_lexer": "ipython3",
   "version": "3.9.18"
  }
 },
 "nbformat": 4,
 "nbformat_minor": 2
}
