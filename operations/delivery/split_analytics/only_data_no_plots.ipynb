{
 "cells": [
  {
   "cell_type": "code",
   "execution_count": 65,
   "metadata": {},
   "outputs": [],
   "source": [
    "import utils\n",
    "from jsonl_dump import download_parse_delivered_into_jsonl\n",
    "from utils import DATA_DIR, service_account_path\n",
    "LIMIT_ITEMS_TO_FIRST_N = 5 # None for full\n",
    "BATCH_IDS = [1,2,3,4]\n",
    "max_workers = 20"
   ]
  },
  {
   "cell_type": "code",
   "execution_count": 2,
   "metadata": {},
   "outputs": [],
   "source": [
    "delivered4 = download_parse_delivered_into_jsonl(BATCH_IDS, no_work=False)"
   ]
  },
  {
   "cell_type": "code",
   "execution_count": 3,
   "metadata": {},
   "outputs": [],
   "source": [
    "delivered_df = delivered4['delivered_df']\n",
    "conversations = delivered4['conversations']"
   ]
  },
  {
   "cell_type": "code",
   "execution_count": 66,
   "metadata": {},
   "outputs": [],
   "source": [
    "from importlib import reload\n",
    "import use_case\n",
    "reload(use_case)\n",
    "from use_case import get_use_case_data_batch_conversations\n",
    "import areas_of_focus\n",
    "reload(areas_of_focus)\n",
    "from areas_of_focus import get_areas_of_focus_data_batch_conversations\n",
    "import behaviour_tagging\n",
    "reload(behaviour_tagging)\n",
    "from behaviour_tagging import get_behavioural_tags_data_batch_conversations\n",
    "import domain_classification\n",
    "reload(domain_classification)\n",
    "from domain_classification import get_domain_data_batch_conversations\n",
    "import programming_language_tagging\n",
    "reload(programming_language_tagging)\n",
    "from programming_language_tagging import get_programming_language_data_batch_conversations\n",
    "import dependency_classification\n",
    "reload(dependency_classification)\n",
    "from dependency_classification import get_dependency_data_batch_conversations"
   ]
  },
  {
   "cell_type": "code",
   "execution_count": 67,
   "metadata": {},
   "outputs": [
    {
     "name": "stdout",
     "output_type": "stream",
     "text": [
      "============================================================\n",
      "Processing batch 1 of 4\n",
      "  Generating behavioural tags...\n"
     ]
    },
    {
     "name": "stderr",
     "output_type": "stream",
     "text": [
      "Processing Conversations:   0%|          | 0/5 [00:00<?, ?it/s]"
     ]
    },
    {
     "name": "stderr",
     "output_type": "stream",
     "text": [
      "Processing Conversations: 100%|██████████| 5/5 [00:05<00:00,  1.13s/it]\n"
     ]
    },
    {
     "name": "stdout",
     "output_type": "stream",
     "text": [
      "  Generating use case data...\n"
     ]
    },
    {
     "name": "stderr",
     "output_type": "stream",
     "text": [
      "100%|██████████| 5/5 [00:09<00:00,  1.83s/it]\n"
     ]
    },
    {
     "name": "stdout",
     "output_type": "stream",
     "text": [
      "  Generating areas of focus data...\n"
     ]
    },
    {
     "name": "stderr",
     "output_type": "stream",
     "text": [
      "Processing Conversations: 100%|██████████| 5/5 [00:03<00:00,  1.37it/s]\n"
     ]
    },
    {
     "name": "stdout",
     "output_type": "stream",
     "text": [
      "  Generating domain data...\n"
     ]
    },
    {
     "name": "stderr",
     "output_type": "stream",
     "text": [
      "Processing Conversations: 100%|██████████| 5/5 [00:02<00:00,  2.49it/s]\n"
     ]
    },
    {
     "name": "stdout",
     "output_type": "stream",
     "text": [
      "  Generating programming language data...\n"
     ]
    },
    {
     "name": "stderr",
     "output_type": "stream",
     "text": [
      "Processing Conversations: 100%|██████████| 5/5 [00:04<00:00,  1.25it/s]\n"
     ]
    },
    {
     "name": "stdout",
     "output_type": "stream",
     "text": [
      "  Generating dependency data...\n"
     ]
    },
    {
     "name": "stderr",
     "output_type": "stream",
     "text": [
      "Processing Conversations:  60%|██████    | 3/5 [00:02<00:01,  1.35it/s]"
     ]
    },
    {
     "name": "stdout",
     "output_type": "stream",
     "text": [
      "Expected tool_calls in ai_message.additional_kwargs, but none found.\n"
     ]
    },
    {
     "name": "stderr",
     "output_type": "stream",
     "text": [
      "Processing Conversations:  80%|████████  | 4/5 [00:03<00:00,  1.50it/s]"
     ]
    },
    {
     "name": "stdout",
     "output_type": "stream",
     "text": [
      "Expected tool_calls in ai_message.additional_kwargs, but none found.\n"
     ]
    },
    {
     "name": "stderr",
     "output_type": "stream",
     "text": [
      "Processing Conversations: 100%|██████████| 5/5 [00:03<00:00,  1.44it/s]\n"
     ]
    },
    {
     "name": "stdout",
     "output_type": "stream",
     "text": [
      "Expected tool_calls in ai_message.additional_kwargs, but none found.\n",
      "============================================================\n",
      "Processing batch 2 of 4\n",
      "  Generating behavioural tags...\n"
     ]
    },
    {
     "name": "stderr",
     "output_type": "stream",
     "text": [
      "Processing Conversations: 100%|██████████| 5/5 [00:07<00:00,  1.58s/it]\n"
     ]
    },
    {
     "name": "stdout",
     "output_type": "stream",
     "text": [
      "  Generating use case data...\n"
     ]
    },
    {
     "name": "stderr",
     "output_type": "stream",
     "text": [
      "100%|██████████| 5/5 [00:08<00:00,  1.68s/it]\n"
     ]
    },
    {
     "name": "stdout",
     "output_type": "stream",
     "text": [
      "  Generating areas of focus data...\n"
     ]
    },
    {
     "name": "stderr",
     "output_type": "stream",
     "text": [
      "Processing Conversations: 100%|██████████| 5/5 [00:08<00:00,  1.71s/it]\n"
     ]
    },
    {
     "name": "stdout",
     "output_type": "stream",
     "text": [
      "  Generating domain data...\n"
     ]
    },
    {
     "name": "stderr",
     "output_type": "stream",
     "text": [
      "Processing Conversations: 100%|██████████| 5/5 [00:03<00:00,  1.59it/s]\n"
     ]
    },
    {
     "name": "stdout",
     "output_type": "stream",
     "text": [
      "  Generating programming language data...\n"
     ]
    },
    {
     "name": "stderr",
     "output_type": "stream",
     "text": [
      "Processing Conversations: 100%|██████████| 5/5 [00:03<00:00,  1.52it/s]\n"
     ]
    },
    {
     "name": "stdout",
     "output_type": "stream",
     "text": [
      "  Generating dependency data...\n"
     ]
    },
    {
     "name": "stderr",
     "output_type": "stream",
     "text": [
      "Processing Conversations:  80%|████████  | 4/5 [00:03<00:00,  1.32it/s]"
     ]
    },
    {
     "name": "stdout",
     "output_type": "stream",
     "text": [
      "Expected tool_calls in ai_message.additional_kwargs, but none found.\n"
     ]
    },
    {
     "name": "stderr",
     "output_type": "stream",
     "text": [
      "Processing Conversations: 100%|██████████| 5/5 [00:03<00:00,  1.36it/s]\n"
     ]
    },
    {
     "name": "stdout",
     "output_type": "stream",
     "text": [
      "Expected tool_calls in ai_message.additional_kwargs, but none found.\n",
      "============================================================\n",
      "Processing batch 3 of 4\n",
      "  Generating behavioural tags...\n"
     ]
    },
    {
     "name": "stderr",
     "output_type": "stream",
     "text": [
      "Processing Conversations: 100%|██████████| 5/5 [00:07<00:00,  1.58s/it]\n"
     ]
    },
    {
     "name": "stdout",
     "output_type": "stream",
     "text": [
      "  Generating use case data...\n"
     ]
    },
    {
     "name": "stderr",
     "output_type": "stream",
     "text": [
      "100%|██████████| 5/5 [00:06<00:00,  1.33s/it]\n"
     ]
    },
    {
     "name": "stdout",
     "output_type": "stream",
     "text": [
      "  Generating areas of focus data...\n"
     ]
    },
    {
     "name": "stderr",
     "output_type": "stream",
     "text": [
      "Processing Conversations: 100%|██████████| 5/5 [00:02<00:00,  1.91it/s]\n"
     ]
    },
    {
     "name": "stdout",
     "output_type": "stream",
     "text": [
      "  Generating domain data...\n"
     ]
    },
    {
     "name": "stderr",
     "output_type": "stream",
     "text": [
      "Processing Conversations: 100%|██████████| 5/5 [00:03<00:00,  1.48it/s]\n"
     ]
    },
    {
     "name": "stdout",
     "output_type": "stream",
     "text": [
      "  Generating programming language data...\n"
     ]
    },
    {
     "name": "stderr",
     "output_type": "stream",
     "text": [
      "Processing Conversations: 100%|██████████| 5/5 [00:06<00:00,  1.22s/it]\n"
     ]
    },
    {
     "name": "stdout",
     "output_type": "stream",
     "text": [
      "  Generating dependency data...\n"
     ]
    },
    {
     "name": "stderr",
     "output_type": "stream",
     "text": [
      "Processing Conversations:  20%|██        | 1/5 [00:02<00:10,  2.72s/it]"
     ]
    },
    {
     "name": "stdout",
     "output_type": "stream",
     "text": [
      "Expected tool_calls in ai_message.additional_kwargs, but none found.\n"
     ]
    },
    {
     "name": "stderr",
     "output_type": "stream",
     "text": [
      "Processing Conversations: 100%|██████████| 5/5 [00:05<00:00,  1.06s/it]\n"
     ]
    },
    {
     "name": "stdout",
     "output_type": "stream",
     "text": [
      "============================================================\n",
      "Processing batch 4 of 4\n",
      "  Generating behavioural tags...\n"
     ]
    },
    {
     "name": "stderr",
     "output_type": "stream",
     "text": [
      "Processing Conversations: 100%|██████████| 5/5 [00:07<00:00,  1.60s/it]\n"
     ]
    },
    {
     "name": "stdout",
     "output_type": "stream",
     "text": [
      "  Generating use case data...\n"
     ]
    },
    {
     "name": "stderr",
     "output_type": "stream",
     "text": [
      "100%|██████████| 5/5 [00:06<00:00,  1.30s/it]\n"
     ]
    },
    {
     "name": "stdout",
     "output_type": "stream",
     "text": [
      "  Generating areas of focus data...\n"
     ]
    },
    {
     "name": "stderr",
     "output_type": "stream",
     "text": [
      "Processing Conversations: 100%|██████████| 5/5 [00:02<00:00,  2.00it/s]\n"
     ]
    },
    {
     "name": "stdout",
     "output_type": "stream",
     "text": [
      "  Generating domain data...\n"
     ]
    },
    {
     "name": "stderr",
     "output_type": "stream",
     "text": [
      "Processing Conversations: 100%|██████████| 5/5 [00:02<00:00,  2.22it/s]\n"
     ]
    },
    {
     "name": "stdout",
     "output_type": "stream",
     "text": [
      "  Generating programming language data...\n"
     ]
    },
    {
     "name": "stderr",
     "output_type": "stream",
     "text": [
      "Processing Conversations: 100%|██████████| 5/5 [00:03<00:00,  1.29it/s]\n"
     ]
    },
    {
     "name": "stdout",
     "output_type": "stream",
     "text": [
      "  Generating dependency data...\n"
     ]
    },
    {
     "name": "stderr",
     "output_type": "stream",
     "text": [
      "Processing Conversations:  60%|██████    | 3/5 [00:03<00:02,  1.26s/it]"
     ]
    },
    {
     "name": "stdout",
     "output_type": "stream",
     "text": [
      "Expected tool_calls in ai_message.additional_kwargs, but none found.\n"
     ]
    },
    {
     "name": "stderr",
     "output_type": "stream",
     "text": [
      "Processing Conversations: 100%|██████████| 5/5 [00:04<00:00,  1.06it/s]"
     ]
    },
    {
     "name": "stdout",
     "output_type": "stream",
     "text": [
      "DONE.\n"
     ]
    },
    {
     "name": "stderr",
     "output_type": "stream",
     "text": [
      "\n"
     ]
    }
   ],
   "source": [
    "from utils import DATA_DIR\n",
    "import os\n",
    "import pickle\n",
    "from datetime import datetime\n",
    "\n",
    "batch_folder_prefix = DATA_DIR + 'jsonl_conversations/batch_'\n",
    "progress_backup_folder = DATA_DIR + 'progress_backup/'\n",
    "current_date = datetime.now().strftime('%Y-%m-%d__%H-%M-%S')\n",
    "\n",
    "analytics_functions = {\n",
    "    'behavioural_tags': get_behavioural_tags_data_batch_conversations,\n",
    "    'use_case_data': get_use_case_data_batch_conversations,\n",
    "    'areas_of_focus_data': get_areas_of_focus_data_batch_conversations,\n",
    "    'domain_data': get_domain_data_batch_conversations,\n",
    "    'programming_language_data': get_programming_language_data_batch_conversations,\n",
    "    'dependency_data': get_dependency_data_batch_conversations,\n",
    "}\n",
    "batch_results = {}\n",
    "\n",
    "number_of_batches_total = len(BATCH_IDS)\n",
    "for i in range(1, 1 + number_of_batches_total):\n",
    "    print('='*60)\n",
    "    print(f\"Processing batch {i} of {number_of_batches_total}\")\n",
    "    batch_folder = batch_folder_prefix + str(i)\n",
    "    batch_results[i] = {}\n",
    "    \n",
    "    for analytics_type, analytics_function in analytics_functions.items():\n",
    "        analytics_remaining = len(analytics_functions) - list(analytics_functions.keys()).index(analytics_type)\n",
    "        print(f\"  Generating {analytics_type.replace('_', ' ')}... ({analytics_remaining}/{len(analytics_functions)} analytics for this batch)\")\n",
    "        print('-'*5)\n",
    "        batch_results[i][analytics_type] = analytics_function(\n",
    "            batch_folder, max_workers=max_workers, limit_items_to_first_n=LIMIT_ITEMS_TO_FIRST_N\n",
    "        )\n",
    "        # Save progress after each item\n",
    "        progress_backup_path = os.path.join(progress_backup_folder, f'{current_date}.pkl')\n",
    "        os.makedirs(os.path.dirname(progress_backup_path), exist_ok=True)\n",
    "        with open(progress_backup_path, 'wb') as backup_file:\n",
    "            pickle.dump(batch_results, backup_file)\n",
    "\n",
    "print('='*60)\n",
    "print('DONE.')\n",
    "print('='*60)"
   ]
  },
  {
   "cell_type": "code",
   "execution_count": 80,
   "metadata": {},
   "outputs": [
    {
     "data": {
      "text/html": [
       "<div>\n",
       "<style scoped>\n",
       "    .dataframe tbody tr th:only-of-type {\n",
       "        vertical-align: middle;\n",
       "    }\n",
       "\n",
       "    .dataframe tbody tr th {\n",
       "        vertical-align: top;\n",
       "    }\n",
       "\n",
       "    .dataframe thead th {\n",
       "        text-align: right;\n",
       "    }\n",
       "</style>\n",
       "<table border=\"1\" class=\"dataframe\">\n",
       "  <thead>\n",
       "    <tr style=\"text-align: right;\">\n",
       "      <th></th>\n",
       "      <th>task_link</th>\n",
       "      <th>jsonl_link</th>\n",
       "      <th>metadata__topic</th>\n",
       "      <th>number_of_turns</th>\n",
       "      <th>duration_mins</th>\n",
       "      <th>batch_id</th>\n",
       "      <th>colab_link</th>\n",
       "      <th>behavioural_tags</th>\n",
       "      <th>use_case_data</th>\n",
       "      <th>areas_of_focus_data</th>\n",
       "      <th>domain_data</th>\n",
       "      <th>programming_language_data</th>\n",
       "      <th>dependency_data</th>\n",
       "    </tr>\n",
       "  </thead>\n",
       "  <tbody>\n",
       "    <tr>\n",
       "      <th>33</th>\n",
       "      <td>https://colab.research.google.com/drive/1Iz1hQ...</td>\n",
       "      <td>https://drive.google.com/file/d/1dp99pw8zVR327...</td>\n",
       "      <td>algorithms &gt; by_topic &gt; bit_manipulation</td>\n",
       "      <td>1</td>\n",
       "      <td>10</td>\n",
       "      <td>1</td>\n",
       "      <td>https://colab.research.google.com/drive/1Iz1hQ...</td>\n",
       "      <td>{'behaviours': [{'top_level': 'Continuation Fo...</td>\n",
       "      <td>{'summary': 'The user is utilizing the Assista...</td>\n",
       "      <td>{'top_level': 'Basic scripting', 'sub_level': ...</td>\n",
       "      <td>{'top_level': 'Problem Solving', 'sub_level': ...</td>\n",
       "      <td>{'language_presence': [{'language': 'Python', ...</td>\n",
       "      <td>{'dependency_presence': []}</td>\n",
       "    </tr>\n",
       "    <tr>\n",
       "      <th>223</th>\n",
       "      <td>https://colab.research.google.com/drive/1h1rav...</td>\n",
       "      <td>https://drive.google.com/file/d/1E_2cCdearNcfA...</td>\n",
       "      <td>python_language_and_scripting &gt; memory_managem...</td>\n",
       "      <td>1</td>\n",
       "      <td>10</td>\n",
       "      <td>1</td>\n",
       "      <td>https://colab.research.google.com/drive/1h1rav...</td>\n",
       "      <td>{'behaviours': [{'top_level': 'Continuation Fo...</td>\n",
       "      <td>{'summary': 'The user is utilizing the Assista...</td>\n",
       "      <td>{'top_level': 'General coding help', 'sub_leve...</td>\n",
       "      <td>{'top_level': 'Python Basics &amp; Scripting', 'su...</td>\n",
       "      <td>{'language_presence': [{'language': 'Python', ...</td>\n",
       "      <td>{'dependency_presence': [{'dependency': 'vanil...</td>\n",
       "    </tr>\n",
       "    <tr>\n",
       "      <th>231</th>\n",
       "      <td>https://colab.research.google.com/drive/1hTG6I...</td>\n",
       "      <td>https://drive.google.com/file/d/1NloPbJ2VooS9H...</td>\n",
       "      <td>algorithms &gt; by_data_structure &gt; trees</td>\n",
       "      <td>1</td>\n",
       "      <td>10</td>\n",
       "      <td>1</td>\n",
       "      <td>https://colab.research.google.com/drive/1hTG6I...</td>\n",
       "      <td>{'behaviours': [{'top_level': 'Continuation Fo...</td>\n",
       "      <td>{'summary': 'The user is utilizing the Assista...</td>\n",
       "      <td>{'top_level': 'Basic scripting', 'sub_level': ...</td>\n",
       "      <td>{'top_level': 'Python Basics &amp; Scripting', 'su...</td>\n",
       "      <td>{'language_presence': [{'language': 'Python', ...</td>\n",
       "      <td>{'dependency_presence': [{'dependency': 'vanil...</td>\n",
       "    </tr>\n",
       "    <tr>\n",
       "      <th>246</th>\n",
       "      <td>https://colab.research.google.com/drive/1ixtti...</td>\n",
       "      <td>https://drive.google.com/file/d/13CrYrLbgemfg2...</td>\n",
       "      <td>algorithms &gt; by_topic &gt; counting</td>\n",
       "      <td>1</td>\n",
       "      <td>12</td>\n",
       "      <td>1</td>\n",
       "      <td>https://colab.research.google.com/drive/1ixtti...</td>\n",
       "      <td>{'behaviours': [{'top_level': 'Continuation Fo...</td>\n",
       "      <td>{'summary': 'The user is utilizing the Assista...</td>\n",
       "      <td>{'top_level': 'Basic scripting', 'sub_level': ...</td>\n",
       "      <td>{'top_level': 'Python Basics &amp; Scripting', 'su...</td>\n",
       "      <td>{'language_presence': [{'language': 'Python', ...</td>\n",
       "      <td>{'dependency_presence': []}</td>\n",
       "    </tr>\n",
       "    <tr>\n",
       "      <th>288</th>\n",
       "      <td>https://colab.research.google.com/drive/1lZQ_X...</td>\n",
       "      <td>https://drive.google.com/file/d/1HfgGWZbstBqGM...</td>\n",
       "      <td>algorithms &gt; by_topic &gt; backtracking</td>\n",
       "      <td>1</td>\n",
       "      <td>15</td>\n",
       "      <td>1</td>\n",
       "      <td>https://colab.research.google.com/drive/1lZQ_X...</td>\n",
       "      <td>{'behaviours': [{'top_level': 'Continuation Fo...</td>\n",
       "      <td>{'summary': 'The user is utilizing the Assista...</td>\n",
       "      <td>{'top_level': 'Basic scripting', 'sub_level': ...</td>\n",
       "      <td>{'top_level': 'Python Basics &amp; Scripting', 'su...</td>\n",
       "      <td>{'language_presence': [{'language': 'Python', ...</td>\n",
       "      <td>{'dependency_presence': []}</td>\n",
       "    </tr>\n",
       "    <tr>\n",
       "      <th>310</th>\n",
       "      <td>https://colab.research.google.com/drive/1Jb9p7...</td>\n",
       "      <td>https://drive.google.com/file/d/13ETXOdXU1gnk8...</td>\n",
       "      <td>algorithms &gt; by_topic &gt; path_finding</td>\n",
       "      <td>3</td>\n",
       "      <td>50</td>\n",
       "      <td>2</td>\n",
       "      <td>https://colab.research.google.com/drive/1Jb9p7...</td>\n",
       "      <td>{'behaviours': [{'top_level': 'Continuation Fo...</td>\n",
       "      <td>{'summary': 'The user is utilizing the Assista...</td>\n",
       "      <td>{'top_level': 'General coding help', 'sub_leve...</td>\n",
       "      <td>{'top_level': 'Problem Solving', 'sub_level': ...</td>\n",
       "      <td>{'language_presence': [{'language': 'Python', ...</td>\n",
       "      <td>{'dependency_presence': []}</td>\n",
       "    </tr>\n",
       "    <tr>\n",
       "      <th>532</th>\n",
       "      <td>https://colab.research.google.com/drive/1YW-M2...</td>\n",
       "      <td>https://drive.google.com/file/d/1MVsHt6ALfw348...</td>\n",
       "      <td>unit_testing_methodology &gt; data_quality_tests</td>\n",
       "      <td>1</td>\n",
       "      <td>20</td>\n",
       "      <td>2</td>\n",
       "      <td>https://colab.research.google.com/drive/1YW-M2...</td>\n",
       "      <td>{'behaviours': [{'top_level': 'Continuation Fo...</td>\n",
       "      <td>{'summary': 'The user is utilizing the Assista...</td>\n",
       "      <td>{'top_level': 'Write unit test', 'sub_level': ...</td>\n",
       "      <td>{'top_level': 'Testing', 'sub_level': 'Softwar...</td>\n",
       "      <td>{'language_presence': [{'language': 'Python', ...</td>\n",
       "      <td>{'dependency_presence': [{'dependency': 'unitt...</td>\n",
       "    </tr>\n",
       "    <tr>\n",
       "      <th>540</th>\n",
       "      <td>https://colab.research.google.com/drive/1-MuAA...</td>\n",
       "      <td>https://drive.google.com/file/d/1kHGS8clpWl3h9...</td>\n",
       "      <td>algorithms &gt; by_topic &gt; statistics</td>\n",
       "      <td>2</td>\n",
       "      <td>20</td>\n",
       "      <td>2</td>\n",
       "      <td>https://colab.research.google.com/drive/1-MuAA...</td>\n",
       "      <td>{'behaviours': [{'top_level': 'Continuation Fo...</td>\n",
       "      <td>{'summary': 'The user is utilizing the Assista...</td>\n",
       "      <td>{'top_level': 'Basic scripting', 'sub_level': ...</td>\n",
       "      <td>{'top_level': 'Data Analysis', 'sub_level': 'S...</td>\n",
       "      <td>{'language_presence': [{'language': 'Python', ...</td>\n",
       "      <td>{'dependency_presence': [{'dependency': 'vanil...</td>\n",
       "    </tr>\n",
       "    <tr>\n",
       "      <th>601</th>\n",
       "      <td>https://colab.research.google.com/drive/1xepiQ...</td>\n",
       "      <td>https://drive.google.com/file/d/1JBn0nVBkhqaNw...</td>\n",
       "      <td>data_analysis &gt; data_cleaning</td>\n",
       "      <td>3</td>\n",
       "      <td>30</td>\n",
       "      <td>2</td>\n",
       "      <td>https://colab.research.google.com/drive/1xepiQ...</td>\n",
       "      <td>{'behaviours': [{'top_level': 'Continuation Fo...</td>\n",
       "      <td>{'summary': 'The user is utilizing the Assista...</td>\n",
       "      <td>{'top_level': 'General coding help', 'sub_leve...</td>\n",
       "      <td>{'top_level': 'Data Analysis', 'sub_level': 'D...</td>\n",
       "      <td>{'language_presence': [{'language': 'Python', ...</td>\n",
       "      <td>{'dependency_presence': [{'dependency': 'panda...</td>\n",
       "    </tr>\n",
       "    <tr>\n",
       "      <th>733</th>\n",
       "      <td>https://colab.research.google.com/drive/1caCIY...</td>\n",
       "      <td>https://drive.google.com/file/d/1NWZjVItaf56kI...</td>\n",
       "      <td>algorithms &gt; by_topic &gt; greedy_algorithms</td>\n",
       "      <td>3</td>\n",
       "      <td>35</td>\n",
       "      <td>2</td>\n",
       "      <td>https://colab.research.google.com/drive/1caCIY...</td>\n",
       "      <td>{'behaviours': [{'top_level': 'Continuation Fo...</td>\n",
       "      <td>{'summary': 'The user is utilizing the Assista...</td>\n",
       "      <td>{'top_level': 'General coding help', 'sub_leve...</td>\n",
       "      <td>{'top_level': 'Problem Solving', 'sub_level': ...</td>\n",
       "      <td>{'language_presence': [{'language': 'Python', ...</td>\n",
       "      <td>{'dependency_presence': []}</td>\n",
       "    </tr>\n",
       "    <tr>\n",
       "      <th>830</th>\n",
       "      <td>https://colab.research.google.com/drive/1ScsAJ...</td>\n",
       "      <td>https://drive.google.com/file/d/1k0WgzOLHgBsPX...</td>\n",
       "      <td>python_language_and_scripting &gt; functional_pr...</td>\n",
       "      <td>3</td>\n",
       "      <td>20</td>\n",
       "      <td>3</td>\n",
       "      <td>https://colab.research.google.com/drive/1ScsAJ...</td>\n",
       "      <td>{'behaviours': [{'top_level': 'Continuation Fo...</td>\n",
       "      <td>{'summary': 'The user employs the Assistant to...</td>\n",
       "      <td>{'top_level': 'Basic scripting', 'sub_level': ...</td>\n",
       "      <td>{'top_level': 'Python Basics &amp; Scripting', 'su...</td>\n",
       "      <td>{'language_presence': [{'language': 'Python', ...</td>\n",
       "      <td>{'dependency_presence': []}</td>\n",
       "    </tr>\n",
       "    <tr>\n",
       "      <th>898</th>\n",
       "      <td>https://colab.research.google.com/drive/1ZjvRQ...</td>\n",
       "      <td>https://drive.google.com/file/d/163aw3WQKYHEg8...</td>\n",
       "      <td>web_development &gt; web_servers</td>\n",
       "      <td>5</td>\n",
       "      <td>30</td>\n",
       "      <td>3</td>\n",
       "      <td>https://colab.research.google.com/drive/1ZjvRQ...</td>\n",
       "      <td>{'behaviours': [{'top_level': 'Continuation Fo...</td>\n",
       "      <td>{'summary': 'The user is utilizing the Assista...</td>\n",
       "      <td>{'top_level': 'Basic scripting', 'sub_level': ...</td>\n",
       "      <td>{'top_level': 'Web Development', 'sub_level': ...</td>\n",
       "      <td>{'language_presence': [{'language': 'Python', ...</td>\n",
       "      <td>{'dependency_presence': [{'dependency': 'Flask...</td>\n",
       "    </tr>\n",
       "    <tr>\n",
       "      <th>931</th>\n",
       "      <td>https://colab.research.google.com/drive/1J4k32...</td>\n",
       "      <td>https://drive.google.com/file/d/1I8s9T9SGPx5FW...</td>\n",
       "      <td>database &gt; database_backup_and_recovery</td>\n",
       "      <td>2</td>\n",
       "      <td>9</td>\n",
       "      <td>3</td>\n",
       "      <td>https://colab.research.google.com/drive/1J4k32...</td>\n",
       "      <td>{'behaviours': [{'top_level': 'Continuation Fo...</td>\n",
       "      <td>{'summary': 'The user utilizes the Assistant t...</td>\n",
       "      <td>{'top_level': 'Basic scripting', 'sub_level': ...</td>\n",
       "      <td>{'top_level': 'Databases', 'sub_level': 'Datab...</td>\n",
       "      <td>{'language_presence': [{'language': 'Python', ...</td>\n",
       "      <td>{'dependency_presence': [{'dependency': 'datet...</td>\n",
       "    </tr>\n",
       "    <tr>\n",
       "      <th>977</th>\n",
       "      <td>https://colab.research.google.com/drive/1dpcio...</td>\n",
       "      <td>https://drive.google.com/file/d/1ATiUtzQ10bna6...</td>\n",
       "      <td>web_development &gt; web_crawling</td>\n",
       "      <td>3</td>\n",
       "      <td>32</td>\n",
       "      <td>3</td>\n",
       "      <td>https://colab.research.google.com/drive/1dpcio...</td>\n",
       "      <td>{'behaviours': [{'top_level': 'Continuation Fo...</td>\n",
       "      <td>{'summary': 'The user is utilizing the Assista...</td>\n",
       "      <td>{'top_level': 'Basic scripting', 'sub_level': ...</td>\n",
       "      <td>{'top_level': 'Web Development', 'sub_level': ...</td>\n",
       "      <td>{'language_presence': [{'language': 'Python', ...</td>\n",
       "      <td>{'dependency_presence': [{'dependency': 'Beaut...</td>\n",
       "    </tr>\n",
       "    <tr>\n",
       "      <th>1382</th>\n",
       "      <td>https://colab.research.google.com/drive/13_pyE...</td>\n",
       "      <td>https://drive.google.com/file/d/1qMzlPKMGYnHnR...</td>\n",
       "      <td>algorithms &gt; by_topic &gt; path_finding</td>\n",
       "      <td>2</td>\n",
       "      <td>35</td>\n",
       "      <td>3</td>\n",
       "      <td>https://colab.research.google.com/drive/13_pyE...</td>\n",
       "      <td>{'behaviours': [{'top_level': 'Continuation Fo...</td>\n",
       "      <td>{'summary': 'The user is utilizing the Assista...</td>\n",
       "      <td>{'top_level': 'Basic scripting', 'sub_level': ...</td>\n",
       "      <td>{'top_level': 'Problem Solving', 'sub_level': ...</td>\n",
       "      <td>{'language_presence': [{'language': 'Python', ...</td>\n",
       "      <td>{'dependency_presence': [{'dependency': 'pprin...</td>\n",
       "    </tr>\n",
       "    <tr>\n",
       "      <th>1622</th>\n",
       "      <td>https://colab.research.google.com/drive/1-GgbE...</td>\n",
       "      <td>https://drive.google.com/file/d/1a3IDFGDNkTwYs...</td>\n",
       "      <td>debugging_and_tracing</td>\n",
       "      <td>4</td>\n",
       "      <td>130</td>\n",
       "      <td>4</td>\n",
       "      <td>https://colab.research.google.com/drive/1-GgbE...</td>\n",
       "      <td>{'behaviours': [{'top_level': 'Continuation Fo...</td>\n",
       "      <td>{'summary': 'The user is utilizing the Assista...</td>\n",
       "      <td>{'top_level': 'Debugging and Troubleshooting',...</td>\n",
       "      <td>{'top_level': 'Web Development', 'sub_level': ...</td>\n",
       "      <td>{'language_presence': [{'language': 'Python', ...</td>\n",
       "      <td>{'dependency_presence': []}</td>\n",
       "    </tr>\n",
       "    <tr>\n",
       "      <th>1631</th>\n",
       "      <td>https://colab.research.google.com/drive/1-VUAH...</td>\n",
       "      <td>https://drive.google.com/file/d/1L6tdTB-t7bh9t...</td>\n",
       "      <td>python_language_and_scripting &gt; virtual_enviro...</td>\n",
       "      <td>5</td>\n",
       "      <td>35</td>\n",
       "      <td>4</td>\n",
       "      <td>https://colab.research.google.com/drive/1-VUAH...</td>\n",
       "      <td>{'behaviours': [{'top_level': 'Continuation Fo...</td>\n",
       "      <td>{'summary': 'The user is utilizing the Assista...</td>\n",
       "      <td>{'top_level': 'Basic scripting', 'sub_level': ...</td>\n",
       "      <td>{'top_level': 'Python Basics &amp; Scripting', 'su...</td>\n",
       "      <td>{'language_presence': [{'language': 'Python', ...</td>\n",
       "      <td>{'dependency_presence': [{'dependency': 'vanil...</td>\n",
       "    </tr>\n",
       "    <tr>\n",
       "      <th>1658</th>\n",
       "      <td>https://colab.research.google.com/drive/12vH9f...</td>\n",
       "      <td>https://drive.google.com/file/d/12KtrDnC-aoOKW...</td>\n",
       "      <td>unit_testing_methodology &gt; test_ai_and_ml_models</td>\n",
       "      <td>4</td>\n",
       "      <td>25</td>\n",
       "      <td>4</td>\n",
       "      <td>https://colab.research.google.com/drive/12vH9f...</td>\n",
       "      <td>{'behaviours': [{'top_level': 'Continuation Fo...</td>\n",
       "      <td>{'summary': 'The user is utilizing the Assista...</td>\n",
       "      <td>{'top_level': 'Basic scripting', 'sub_level': ...</td>\n",
       "      <td>{'top_level': 'Machine Learning', 'sub_level':...</td>\n",
       "      <td>{'language_presence': [{'language': 'python', ...</td>\n",
       "      <td>{'dependency_presence': [{'dependency': 'Keras...</td>\n",
       "    </tr>\n",
       "    <tr>\n",
       "      <th>1740</th>\n",
       "      <td>https://colab.research.google.com/drive/1bynoO...</td>\n",
       "      <td>https://drive.google.com/file/d/1UIspm0yAJZg61...</td>\n",
       "      <td>python_language_and_scripting &gt; logging</td>\n",
       "      <td>3</td>\n",
       "      <td>35</td>\n",
       "      <td>4</td>\n",
       "      <td>https://colab.research.google.com/drive/1bynoO...</td>\n",
       "      <td>{'behaviours': [{'top_level': 'Continuation Fo...</td>\n",
       "      <td>{'summary': 'The user is utilizing the Assista...</td>\n",
       "      <td>{'top_level': 'Basic scripting', 'sub_level': ...</td>\n",
       "      <td>{'top_level': 'Python Basics &amp; Scripting', 'su...</td>\n",
       "      <td>{'language_presence': [{'language': 'Python', ...</td>\n",
       "      <td>{'dependency_presence': [{'dependency': 'loggi...</td>\n",
       "    </tr>\n",
       "    <tr>\n",
       "      <th>1830</th>\n",
       "      <td>https://colab.research.google.com/drive/1ksTlH...</td>\n",
       "      <td>https://drive.google.com/file/d/13hLwEalsF49u3...</td>\n",
       "      <td>algorithms &gt; by_data_structure &gt; graphs</td>\n",
       "      <td>3</td>\n",
       "      <td>60</td>\n",
       "      <td>4</td>\n",
       "      <td>https://colab.research.google.com/drive/1ksTlH...</td>\n",
       "      <td>{'behaviours': [{'top_level': 'Continuation Fo...</td>\n",
       "      <td>{'summary': 'The user is utilizing the Assista...</td>\n",
       "      <td>{'top_level': 'General coding help', 'sub_leve...</td>\n",
       "      <td>{'top_level': 'Problem Solving', 'sub_level': ...</td>\n",
       "      <td>{'language_presence': [{'language': 'Python', ...</td>\n",
       "      <td>{'dependency_presence': [{'dependency': 'vanil...</td>\n",
       "    </tr>\n",
       "  </tbody>\n",
       "</table>\n",
       "</div>"
      ],
      "text/plain": [
       "                                              task_link  \\\n",
       "33    https://colab.research.google.com/drive/1Iz1hQ...   \n",
       "223   https://colab.research.google.com/drive/1h1rav...   \n",
       "231   https://colab.research.google.com/drive/1hTG6I...   \n",
       "246   https://colab.research.google.com/drive/1ixtti...   \n",
       "288   https://colab.research.google.com/drive/1lZQ_X...   \n",
       "310   https://colab.research.google.com/drive/1Jb9p7...   \n",
       "532   https://colab.research.google.com/drive/1YW-M2...   \n",
       "540   https://colab.research.google.com/drive/1-MuAA...   \n",
       "601   https://colab.research.google.com/drive/1xepiQ...   \n",
       "733   https://colab.research.google.com/drive/1caCIY...   \n",
       "830   https://colab.research.google.com/drive/1ScsAJ...   \n",
       "898   https://colab.research.google.com/drive/1ZjvRQ...   \n",
       "931   https://colab.research.google.com/drive/1J4k32...   \n",
       "977   https://colab.research.google.com/drive/1dpcio...   \n",
       "1382  https://colab.research.google.com/drive/13_pyE...   \n",
       "1622  https://colab.research.google.com/drive/1-GgbE...   \n",
       "1631  https://colab.research.google.com/drive/1-VUAH...   \n",
       "1658  https://colab.research.google.com/drive/12vH9f...   \n",
       "1740  https://colab.research.google.com/drive/1bynoO...   \n",
       "1830  https://colab.research.google.com/drive/1ksTlH...   \n",
       "\n",
       "                                             jsonl_link  \\\n",
       "33    https://drive.google.com/file/d/1dp99pw8zVR327...   \n",
       "223   https://drive.google.com/file/d/1E_2cCdearNcfA...   \n",
       "231   https://drive.google.com/file/d/1NloPbJ2VooS9H...   \n",
       "246   https://drive.google.com/file/d/13CrYrLbgemfg2...   \n",
       "288   https://drive.google.com/file/d/1HfgGWZbstBqGM...   \n",
       "310   https://drive.google.com/file/d/13ETXOdXU1gnk8...   \n",
       "532   https://drive.google.com/file/d/1MVsHt6ALfw348...   \n",
       "540   https://drive.google.com/file/d/1kHGS8clpWl3h9...   \n",
       "601   https://drive.google.com/file/d/1JBn0nVBkhqaNw...   \n",
       "733   https://drive.google.com/file/d/1NWZjVItaf56kI...   \n",
       "830   https://drive.google.com/file/d/1k0WgzOLHgBsPX...   \n",
       "898   https://drive.google.com/file/d/163aw3WQKYHEg8...   \n",
       "931   https://drive.google.com/file/d/1I8s9T9SGPx5FW...   \n",
       "977   https://drive.google.com/file/d/1ATiUtzQ10bna6...   \n",
       "1382  https://drive.google.com/file/d/1qMzlPKMGYnHnR...   \n",
       "1622  https://drive.google.com/file/d/1a3IDFGDNkTwYs...   \n",
       "1631  https://drive.google.com/file/d/1L6tdTB-t7bh9t...   \n",
       "1658  https://drive.google.com/file/d/12KtrDnC-aoOKW...   \n",
       "1740  https://drive.google.com/file/d/1UIspm0yAJZg61...   \n",
       "1830  https://drive.google.com/file/d/13hLwEalsF49u3...   \n",
       "\n",
       "                                        metadata__topic number_of_turns  \\\n",
       "33             algorithms > by_topic > bit_manipulation               1   \n",
       "223   python_language_and_scripting > memory_managem...               1   \n",
       "231              algorithms > by_data_structure > trees               1   \n",
       "246                    algorithms > by_topic > counting               1   \n",
       "288                algorithms > by_topic > backtracking               1   \n",
       "310                algorithms > by_topic > path_finding               3   \n",
       "532       unit_testing_methodology > data_quality_tests               1   \n",
       "540                  algorithms > by_topic > statistics               2   \n",
       "601                       data_analysis > data_cleaning               3   \n",
       "733           algorithms > by_topic > greedy_algorithms               3   \n",
       "830    python_language_and_scripting > functional_pr...               3   \n",
       "898                       web_development > web_servers               5   \n",
       "931             database > database_backup_and_recovery               2   \n",
       "977                      web_development > web_crawling               3   \n",
       "1382               algorithms > by_topic > path_finding               2   \n",
       "1622                              debugging_and_tracing               4   \n",
       "1631  python_language_and_scripting > virtual_enviro...               5   \n",
       "1658   unit_testing_methodology > test_ai_and_ml_models               4   \n",
       "1740            python_language_and_scripting > logging               3   \n",
       "1830            algorithms > by_data_structure > graphs               3   \n",
       "\n",
       "     duration_mins  batch_id  \\\n",
       "33              10         1   \n",
       "223             10         1   \n",
       "231             10         1   \n",
       "246             12         1   \n",
       "288             15         1   \n",
       "310             50         2   \n",
       "532             20         2   \n",
       "540             20         2   \n",
       "601             30         2   \n",
       "733             35         2   \n",
       "830             20         3   \n",
       "898             30         3   \n",
       "931              9         3   \n",
       "977             32         3   \n",
       "1382            35         3   \n",
       "1622           130         4   \n",
       "1631            35         4   \n",
       "1658            25         4   \n",
       "1740            35         4   \n",
       "1830            60         4   \n",
       "\n",
       "                                             colab_link  \\\n",
       "33    https://colab.research.google.com/drive/1Iz1hQ...   \n",
       "223   https://colab.research.google.com/drive/1h1rav...   \n",
       "231   https://colab.research.google.com/drive/1hTG6I...   \n",
       "246   https://colab.research.google.com/drive/1ixtti...   \n",
       "288   https://colab.research.google.com/drive/1lZQ_X...   \n",
       "310   https://colab.research.google.com/drive/1Jb9p7...   \n",
       "532   https://colab.research.google.com/drive/1YW-M2...   \n",
       "540   https://colab.research.google.com/drive/1-MuAA...   \n",
       "601   https://colab.research.google.com/drive/1xepiQ...   \n",
       "733   https://colab.research.google.com/drive/1caCIY...   \n",
       "830   https://colab.research.google.com/drive/1ScsAJ...   \n",
       "898   https://colab.research.google.com/drive/1ZjvRQ...   \n",
       "931   https://colab.research.google.com/drive/1J4k32...   \n",
       "977   https://colab.research.google.com/drive/1dpcio...   \n",
       "1382  https://colab.research.google.com/drive/13_pyE...   \n",
       "1622  https://colab.research.google.com/drive/1-GgbE...   \n",
       "1631  https://colab.research.google.com/drive/1-VUAH...   \n",
       "1658  https://colab.research.google.com/drive/12vH9f...   \n",
       "1740  https://colab.research.google.com/drive/1bynoO...   \n",
       "1830  https://colab.research.google.com/drive/1ksTlH...   \n",
       "\n",
       "                                       behavioural_tags  \\\n",
       "33    {'behaviours': [{'top_level': 'Continuation Fo...   \n",
       "223   {'behaviours': [{'top_level': 'Continuation Fo...   \n",
       "231   {'behaviours': [{'top_level': 'Continuation Fo...   \n",
       "246   {'behaviours': [{'top_level': 'Continuation Fo...   \n",
       "288   {'behaviours': [{'top_level': 'Continuation Fo...   \n",
       "310   {'behaviours': [{'top_level': 'Continuation Fo...   \n",
       "532   {'behaviours': [{'top_level': 'Continuation Fo...   \n",
       "540   {'behaviours': [{'top_level': 'Continuation Fo...   \n",
       "601   {'behaviours': [{'top_level': 'Continuation Fo...   \n",
       "733   {'behaviours': [{'top_level': 'Continuation Fo...   \n",
       "830   {'behaviours': [{'top_level': 'Continuation Fo...   \n",
       "898   {'behaviours': [{'top_level': 'Continuation Fo...   \n",
       "931   {'behaviours': [{'top_level': 'Continuation Fo...   \n",
       "977   {'behaviours': [{'top_level': 'Continuation Fo...   \n",
       "1382  {'behaviours': [{'top_level': 'Continuation Fo...   \n",
       "1622  {'behaviours': [{'top_level': 'Continuation Fo...   \n",
       "1631  {'behaviours': [{'top_level': 'Continuation Fo...   \n",
       "1658  {'behaviours': [{'top_level': 'Continuation Fo...   \n",
       "1740  {'behaviours': [{'top_level': 'Continuation Fo...   \n",
       "1830  {'behaviours': [{'top_level': 'Continuation Fo...   \n",
       "\n",
       "                                          use_case_data  \\\n",
       "33    {'summary': 'The user is utilizing the Assista...   \n",
       "223   {'summary': 'The user is utilizing the Assista...   \n",
       "231   {'summary': 'The user is utilizing the Assista...   \n",
       "246   {'summary': 'The user is utilizing the Assista...   \n",
       "288   {'summary': 'The user is utilizing the Assista...   \n",
       "310   {'summary': 'The user is utilizing the Assista...   \n",
       "532   {'summary': 'The user is utilizing the Assista...   \n",
       "540   {'summary': 'The user is utilizing the Assista...   \n",
       "601   {'summary': 'The user is utilizing the Assista...   \n",
       "733   {'summary': 'The user is utilizing the Assista...   \n",
       "830   {'summary': 'The user employs the Assistant to...   \n",
       "898   {'summary': 'The user is utilizing the Assista...   \n",
       "931   {'summary': 'The user utilizes the Assistant t...   \n",
       "977   {'summary': 'The user is utilizing the Assista...   \n",
       "1382  {'summary': 'The user is utilizing the Assista...   \n",
       "1622  {'summary': 'The user is utilizing the Assista...   \n",
       "1631  {'summary': 'The user is utilizing the Assista...   \n",
       "1658  {'summary': 'The user is utilizing the Assista...   \n",
       "1740  {'summary': 'The user is utilizing the Assista...   \n",
       "1830  {'summary': 'The user is utilizing the Assista...   \n",
       "\n",
       "                                    areas_of_focus_data  \\\n",
       "33    {'top_level': 'Basic scripting', 'sub_level': ...   \n",
       "223   {'top_level': 'General coding help', 'sub_leve...   \n",
       "231   {'top_level': 'Basic scripting', 'sub_level': ...   \n",
       "246   {'top_level': 'Basic scripting', 'sub_level': ...   \n",
       "288   {'top_level': 'Basic scripting', 'sub_level': ...   \n",
       "310   {'top_level': 'General coding help', 'sub_leve...   \n",
       "532   {'top_level': 'Write unit test', 'sub_level': ...   \n",
       "540   {'top_level': 'Basic scripting', 'sub_level': ...   \n",
       "601   {'top_level': 'General coding help', 'sub_leve...   \n",
       "733   {'top_level': 'General coding help', 'sub_leve...   \n",
       "830   {'top_level': 'Basic scripting', 'sub_level': ...   \n",
       "898   {'top_level': 'Basic scripting', 'sub_level': ...   \n",
       "931   {'top_level': 'Basic scripting', 'sub_level': ...   \n",
       "977   {'top_level': 'Basic scripting', 'sub_level': ...   \n",
       "1382  {'top_level': 'Basic scripting', 'sub_level': ...   \n",
       "1622  {'top_level': 'Debugging and Troubleshooting',...   \n",
       "1631  {'top_level': 'Basic scripting', 'sub_level': ...   \n",
       "1658  {'top_level': 'Basic scripting', 'sub_level': ...   \n",
       "1740  {'top_level': 'Basic scripting', 'sub_level': ...   \n",
       "1830  {'top_level': 'General coding help', 'sub_leve...   \n",
       "\n",
       "                                            domain_data  \\\n",
       "33    {'top_level': 'Problem Solving', 'sub_level': ...   \n",
       "223   {'top_level': 'Python Basics & Scripting', 'su...   \n",
       "231   {'top_level': 'Python Basics & Scripting', 'su...   \n",
       "246   {'top_level': 'Python Basics & Scripting', 'su...   \n",
       "288   {'top_level': 'Python Basics & Scripting', 'su...   \n",
       "310   {'top_level': 'Problem Solving', 'sub_level': ...   \n",
       "532   {'top_level': 'Testing', 'sub_level': 'Softwar...   \n",
       "540   {'top_level': 'Data Analysis', 'sub_level': 'S...   \n",
       "601   {'top_level': 'Data Analysis', 'sub_level': 'D...   \n",
       "733   {'top_level': 'Problem Solving', 'sub_level': ...   \n",
       "830   {'top_level': 'Python Basics & Scripting', 'su...   \n",
       "898   {'top_level': 'Web Development', 'sub_level': ...   \n",
       "931   {'top_level': 'Databases', 'sub_level': 'Datab...   \n",
       "977   {'top_level': 'Web Development', 'sub_level': ...   \n",
       "1382  {'top_level': 'Problem Solving', 'sub_level': ...   \n",
       "1622  {'top_level': 'Web Development', 'sub_level': ...   \n",
       "1631  {'top_level': 'Python Basics & Scripting', 'su...   \n",
       "1658  {'top_level': 'Machine Learning', 'sub_level':...   \n",
       "1740  {'top_level': 'Python Basics & Scripting', 'su...   \n",
       "1830  {'top_level': 'Problem Solving', 'sub_level': ...   \n",
       "\n",
       "                              programming_language_data  \\\n",
       "33    {'language_presence': [{'language': 'Python', ...   \n",
       "223   {'language_presence': [{'language': 'Python', ...   \n",
       "231   {'language_presence': [{'language': 'Python', ...   \n",
       "246   {'language_presence': [{'language': 'Python', ...   \n",
       "288   {'language_presence': [{'language': 'Python', ...   \n",
       "310   {'language_presence': [{'language': 'Python', ...   \n",
       "532   {'language_presence': [{'language': 'Python', ...   \n",
       "540   {'language_presence': [{'language': 'Python', ...   \n",
       "601   {'language_presence': [{'language': 'Python', ...   \n",
       "733   {'language_presence': [{'language': 'Python', ...   \n",
       "830   {'language_presence': [{'language': 'Python', ...   \n",
       "898   {'language_presence': [{'language': 'Python', ...   \n",
       "931   {'language_presence': [{'language': 'Python', ...   \n",
       "977   {'language_presence': [{'language': 'Python', ...   \n",
       "1382  {'language_presence': [{'language': 'Python', ...   \n",
       "1622  {'language_presence': [{'language': 'Python', ...   \n",
       "1631  {'language_presence': [{'language': 'Python', ...   \n",
       "1658  {'language_presence': [{'language': 'python', ...   \n",
       "1740  {'language_presence': [{'language': 'Python', ...   \n",
       "1830  {'language_presence': [{'language': 'Python', ...   \n",
       "\n",
       "                                        dependency_data  \n",
       "33                          {'dependency_presence': []}  \n",
       "223   {'dependency_presence': [{'dependency': 'vanil...  \n",
       "231   {'dependency_presence': [{'dependency': 'vanil...  \n",
       "246                         {'dependency_presence': []}  \n",
       "288                         {'dependency_presence': []}  \n",
       "310                         {'dependency_presence': []}  \n",
       "532   {'dependency_presence': [{'dependency': 'unitt...  \n",
       "540   {'dependency_presence': [{'dependency': 'vanil...  \n",
       "601   {'dependency_presence': [{'dependency': 'panda...  \n",
       "733                         {'dependency_presence': []}  \n",
       "830                         {'dependency_presence': []}  \n",
       "898   {'dependency_presence': [{'dependency': 'Flask...  \n",
       "931   {'dependency_presence': [{'dependency': 'datet...  \n",
       "977   {'dependency_presence': [{'dependency': 'Beaut...  \n",
       "1382  {'dependency_presence': [{'dependency': 'pprin...  \n",
       "1622                        {'dependency_presence': []}  \n",
       "1631  {'dependency_presence': [{'dependency': 'vanil...  \n",
       "1658  {'dependency_presence': [{'dependency': 'Keras...  \n",
       "1740  {'dependency_presence': [{'dependency': 'loggi...  \n",
       "1830  {'dependency_presence': [{'dependency': 'vanil...  "
      ]
     },
     "execution_count": 80,
     "metadata": {},
     "output_type": "execute_result"
    }
   ],
   "source": [
    "import pandas as pd\n",
    "\n",
    "# Function to flatten the batch_results into a list of dictionaries\n",
    "def flatten_batch_results(batch_results):\n",
    "    flattened_data = []\n",
    "    for batch_id, analytics_types in batch_results.items():\n",
    "        for analytics_type, analytics_items in analytics_types.items():\n",
    "            for item in analytics_items:\n",
    "                item_data = {\n",
    "                    'batch_id': batch_id,\n",
    "                    'colab_link': item['colab_link'],\n",
    "                    analytics_type: {k: v for k, v in item.items() if k not in ['colab_link', 'id']}\n",
    "                }\n",
    "                flattened_data.append(item_data)\n",
    "    return flattened_data\n",
    "\n",
    "# Flatten the batch_results\n",
    "flattened_data = flatten_batch_results(batch_results)\n",
    "\n",
    "# Create a dataframe from the flattened data\n",
    "batch_results_df = pd.DataFrame(flattened_data)\n",
    "\n",
    "# Function to extend the delivered_df with analytics data\n",
    "def extend_delivered_df(delivered_df, batch_results_df):\n",
    "    for analytics_type in analytics_functions.keys():\n",
    "        analytics_df = batch_results_df[['batch_id', 'colab_link', analytics_type]].dropna()\n",
    "        # Merge on 'colab_link' and exclude 'batch_id' and 'colab_link' from the right dataframe\n",
    "        merged_df = delivered_df.merge(analytics_df, left_on='task_link', right_on='colab_link', how='left', suffixes=('', '_right'))\n",
    "        # Drop the '_right' columns after merging\n",
    "        for col in ['batch_id_right', 'colab_link_right']:\n",
    "            if col in merged_df.columns:\n",
    "                merged_df.drop(columns=[col], inplace=True)\n",
    "        delivered_df = merged_df\n",
    "    return delivered_df\n",
    "\n",
    "# Extend the delivered_df with the batch_results_df\n",
    "extended_delivered_df = extend_delivered_df(delivered_df, batch_results_df)\n",
    "\n",
    "# Filter the extended dataframe to show only rows with non-null analytics data\n",
    "filtered_extended_delivered_df = extended_delivered_df[\n",
    "    extended_delivered_df.filter(like='_data').notnull().any(axis=1)\n",
    "]\n",
    "\n",
    "filtered_extended_delivered_df\n"
   ]
  },
  {
   "cell_type": "code",
   "execution_count": 88,
   "metadata": {},
   "outputs": [
    {
     "data": {
      "text/plain": [
       "Index(['task_link', 'jsonl_link', 'metadata__topic', 'number_of_turns',\n",
       "       'duration_mins', 'batch_id', 'colab_link', 'behavioural_tags',\n",
       "       'use_case_data', 'areas_of_focus_data', 'domain_data',\n",
       "       'programming_language_data', 'dependency_data'],\n",
       "      dtype='object')"
      ]
     },
     "execution_count": 88,
     "metadata": {},
     "output_type": "execute_result"
    }
   ],
   "source": [
    "filtered_extended_delivered_df.columns"
   ]
  },
  {
   "cell_type": "code",
   "execution_count": 111,
   "metadata": {},
   "outputs": [
    {
     "data": {
      "text/html": [
       "<div>\n",
       "<style scoped>\n",
       "    .dataframe tbody tr th:only-of-type {\n",
       "        vertical-align: middle;\n",
       "    }\n",
       "\n",
       "    .dataframe tbody tr th {\n",
       "        vertical-align: top;\n",
       "    }\n",
       "\n",
       "    .dataframe thead th {\n",
       "        text-align: right;\n",
       "    }\n",
       "</style>\n",
       "<table border=\"1\" class=\"dataframe\">\n",
       "  <thead>\n",
       "    <tr style=\"text-align: right;\">\n",
       "      <th></th>\n",
       "      <th>task_link</th>\n",
       "      <th>dependency</th>\n",
       "      <th>percentage</th>\n",
       "    </tr>\n",
       "  </thead>\n",
       "  <tbody>\n",
       "    <tr>\n",
       "      <th>0</th>\n",
       "      <td>https://colab.research.google.com/drive/1h1rav...</td>\n",
       "      <td>vanilla python</td>\n",
       "      <td>1.00</td>\n",
       "    </tr>\n",
       "    <tr>\n",
       "      <th>1</th>\n",
       "      <td>https://colab.research.google.com/drive/1hTG6I...</td>\n",
       "      <td>vanilla python</td>\n",
       "      <td>1.00</td>\n",
       "    </tr>\n",
       "    <tr>\n",
       "      <th>2</th>\n",
       "      <td>https://colab.research.google.com/drive/1YW-M2...</td>\n",
       "      <td>unittest</td>\n",
       "      <td>0.50</td>\n",
       "    </tr>\n",
       "    <tr>\n",
       "      <th>3</th>\n",
       "      <td>https://colab.research.google.com/drive/1-MuAA...</td>\n",
       "      <td>vanilla python</td>\n",
       "      <td>1.00</td>\n",
       "    </tr>\n",
       "    <tr>\n",
       "      <th>4</th>\n",
       "      <td>https://colab.research.google.com/drive/1xepiQ...</td>\n",
       "      <td>pandas</td>\n",
       "      <td>1.00</td>\n",
       "    </tr>\n",
       "    <tr>\n",
       "      <th>5</th>\n",
       "      <td>https://colab.research.google.com/drive/1ZjvRQ...</td>\n",
       "      <td>flask</td>\n",
       "      <td>0.90</td>\n",
       "    </tr>\n",
       "    <tr>\n",
       "      <th>6</th>\n",
       "      <td>https://colab.research.google.com/drive/1ZjvRQ...</td>\n",
       "      <td>vanilla python</td>\n",
       "      <td>0.10</td>\n",
       "    </tr>\n",
       "    <tr>\n",
       "      <th>7</th>\n",
       "      <td>https://colab.research.google.com/drive/1J4k32...</td>\n",
       "      <td>datetime</td>\n",
       "      <td>0.50</td>\n",
       "    </tr>\n",
       "    <tr>\n",
       "      <th>8</th>\n",
       "      <td>https://colab.research.google.com/drive/1J4k32...</td>\n",
       "      <td>vanilla python</td>\n",
       "      <td>0.50</td>\n",
       "    </tr>\n",
       "    <tr>\n",
       "      <th>9</th>\n",
       "      <td>https://colab.research.google.com/drive/1dpcio...</td>\n",
       "      <td>beautifulsoup</td>\n",
       "      <td>0.70</td>\n",
       "    </tr>\n",
       "    <tr>\n",
       "      <th>10</th>\n",
       "      <td>https://colab.research.google.com/drive/1dpcio...</td>\n",
       "      <td>csv</td>\n",
       "      <td>0.15</td>\n",
       "    </tr>\n",
       "    <tr>\n",
       "      <th>11</th>\n",
       "      <td>https://colab.research.google.com/drive/1dpcio...</td>\n",
       "      <td>requests</td>\n",
       "      <td>0.15</td>\n",
       "    </tr>\n",
       "    <tr>\n",
       "      <th>12</th>\n",
       "      <td>https://colab.research.google.com/drive/13_pyE...</td>\n",
       "      <td>pprint</td>\n",
       "      <td>0.50</td>\n",
       "    </tr>\n",
       "    <tr>\n",
       "      <th>13</th>\n",
       "      <td>https://colab.research.google.com/drive/13_pyE...</td>\n",
       "      <td>copy</td>\n",
       "      <td>0.50</td>\n",
       "    </tr>\n",
       "    <tr>\n",
       "      <th>14</th>\n",
       "      <td>https://colab.research.google.com/drive/1-VUAH...</td>\n",
       "      <td>vanilla python</td>\n",
       "      <td>1.00</td>\n",
       "    </tr>\n",
       "    <tr>\n",
       "      <th>15</th>\n",
       "      <td>https://colab.research.google.com/drive/12vH9f...</td>\n",
       "      <td>keras</td>\n",
       "      <td>0.50</td>\n",
       "    </tr>\n",
       "    <tr>\n",
       "      <th>16</th>\n",
       "      <td>https://colab.research.google.com/drive/1bynoO...</td>\n",
       "      <td>logging</td>\n",
       "      <td>0.70</td>\n",
       "    </tr>\n",
       "    <tr>\n",
       "      <th>17</th>\n",
       "      <td>https://colab.research.google.com/drive/1bynoO...</td>\n",
       "      <td>vanilla python</td>\n",
       "      <td>0.30</td>\n",
       "    </tr>\n",
       "    <tr>\n",
       "      <th>18</th>\n",
       "      <td>https://colab.research.google.com/drive/1ksTlH...</td>\n",
       "      <td>vanilla python</td>\n",
       "      <td>0.90</td>\n",
       "    </tr>\n",
       "  </tbody>\n",
       "</table>\n",
       "</div>"
      ],
      "text/plain": [
       "                                            task_link      dependency  \\\n",
       "0   https://colab.research.google.com/drive/1h1rav...  vanilla python   \n",
       "1   https://colab.research.google.com/drive/1hTG6I...  vanilla python   \n",
       "2   https://colab.research.google.com/drive/1YW-M2...        unittest   \n",
       "3   https://colab.research.google.com/drive/1-MuAA...  vanilla python   \n",
       "4   https://colab.research.google.com/drive/1xepiQ...          pandas   \n",
       "5   https://colab.research.google.com/drive/1ZjvRQ...           flask   \n",
       "6   https://colab.research.google.com/drive/1ZjvRQ...  vanilla python   \n",
       "7   https://colab.research.google.com/drive/1J4k32...        datetime   \n",
       "8   https://colab.research.google.com/drive/1J4k32...  vanilla python   \n",
       "9   https://colab.research.google.com/drive/1dpcio...   beautifulsoup   \n",
       "10  https://colab.research.google.com/drive/1dpcio...             csv   \n",
       "11  https://colab.research.google.com/drive/1dpcio...        requests   \n",
       "12  https://colab.research.google.com/drive/13_pyE...          pprint   \n",
       "13  https://colab.research.google.com/drive/13_pyE...            copy   \n",
       "14  https://colab.research.google.com/drive/1-VUAH...  vanilla python   \n",
       "15  https://colab.research.google.com/drive/12vH9f...           keras   \n",
       "16  https://colab.research.google.com/drive/1bynoO...         logging   \n",
       "17  https://colab.research.google.com/drive/1bynoO...  vanilla python   \n",
       "18  https://colab.research.google.com/drive/1ksTlH...  vanilla python   \n",
       "\n",
       "    percentage  \n",
       "0         1.00  \n",
       "1         1.00  \n",
       "2         0.50  \n",
       "3         1.00  \n",
       "4         1.00  \n",
       "5         0.90  \n",
       "6         0.10  \n",
       "7         0.50  \n",
       "8         0.50  \n",
       "9         0.70  \n",
       "10        0.15  \n",
       "11        0.15  \n",
       "12        0.50  \n",
       "13        0.50  \n",
       "14        1.00  \n",
       "15        0.50  \n",
       "16        0.70  \n",
       "17        0.30  \n",
       "18        0.90  "
      ]
     },
     "execution_count": 111,
     "metadata": {},
     "output_type": "execute_result"
    }
   ],
   "source": [
    "expanded_enriched_df = filtered_extended_delivered_df.copy()\n",
    "\n",
    "\n",
    "def expand_dependency_data(row):\n",
    "    dependency_presence = row['dependency_data'].get('dependency_presence', [])\n",
    "    task_link = row['task_link']\n",
    "    return [{'task_link': task_link, 'dependency': dep['dependency'].lower(), 'percentage': dep['percentage']} for dep in dependency_presence]\n",
    "\n",
    "dependency_data = expanded_enriched_df.apply(expand_dependency_data, axis=1).explode()\n",
    "dependency_data = pd.DataFrame(dependency_data[~dependency_data.isna()].tolist())\n",
    "dependency_data = dependency_data.dropna().reset_index(drop=True)\n",
    "dependency_data"
   ]
  },
  {
   "cell_type": "code",
   "execution_count": 133,
   "metadata": {},
   "outputs": [],
   "source": [
    "\n",
    "def extract_summary(data):\n",
    "    return data.get('summary', '') if pd.notnull(data) else ''\n",
    "\n",
    "\n",
    "expanded_enriched_df = filtered_extended_delivered_df.copy()\n",
    "expanded_enriched_df.drop(columns=['colab_link', 'jsonl_link'], inplace=True)\n",
    "\n",
    "\n",
    "\n",
    "def expand_language_data(row):\n",
    "    language_presence = row['programming_language_data'].get('language_presence', [])\n",
    "    task_link = row['task_link']\n",
    "    return [{'task_link': task_link, 'tag': lang['language'].lower(), 'percentage': lang['percentage']} for lang in language_presence]\n",
    "\n",
    "programming_language_data = expanded_enriched_df.apply(expand_language_data, axis=1).explode()\n",
    "programming_language_data = pd.DataFrame(programming_language_data[~programming_language_data.isna()].tolist())\n",
    "\n",
    "\n",
    "expanded_enriched_df.drop(columns=['programming_language_data'], inplace=True)\n",
    "\n",
    "def expand_dependency_data(row):\n",
    "    dependency_presence = row['dependency_data'].get('dependency_presence', [])\n",
    "    task_link = row['task_link']\n",
    "    return [{'task_link': task_link, 'tag': dep['dependency'].lower(), 'percentage': dep['percentage']} for dep in dependency_presence]\n",
    "\n",
    "dependency_data = expanded_enriched_df.apply(expand_dependency_data, axis=1).explode()\n",
    "dependency_data = pd.DataFrame(dependency_data[~dependency_data.isna()].tolist())\n",
    "\n",
    "\n",
    "expanded_enriched_df.drop(columns=['dependency_data'], inplace=True)\n",
    "\n",
    "\n",
    "\n",
    "expanded_enriched_df['use_case__summary'] = expanded_enriched_df['use_case_data'].map(extract_summary)\n",
    "\n",
    "def expand_tags(row):\n",
    "    tags = row['use_case_data'].get('tags', [])\n",
    "    task_link = row['task_link']\n",
    "    return [{'task_link': task_link, 'tag': tag.lower()} for tag in tags]\n",
    "\n",
    "use_case_tags_data = expanded_enriched_df.apply(expand_tags, axis=1).explode()\n",
    "use_case_tags_data = pd.DataFrame(use_case_tags_data[~use_case_tags_data.isna()].tolist())\n",
    "\n",
    "expanded_enriched_df.drop(columns=['use_case_data'], inplace=True)\n",
    "\n",
    "def extract_area_of_focus(data):\n",
    "    if pd.notnull(data):\n",
    "        return {\n",
    "            'area_of_focus__top_level': data.get('top_level', '').lower(),\n",
    "            'area_of_focus__sub_level': data.get('sub_level', '').lower(),\n",
    "            'area_of_focus__detailed_level': data.get('detailed_level', '').lower(),\n",
    "            #'area_of_focus_custom_category': data.get('new_filled_category', False)\n",
    "        }\n",
    "    else:\n",
    "        return {\n",
    "            'area_of_focus__top_level': '',\n",
    "            'area_of_focus__sub_level': '',\n",
    "            'area_of_focus__detailed_level': '',\n",
    "            #'area_of_focus_custom_category': False\n",
    "        }\n",
    "\n",
    "areas_of_focus_columns = expanded_enriched_df['areas_of_focus_data'].map(extract_area_of_focus).apply(pd.Series)\n",
    "expanded_enriched_df = pd.concat([expanded_enriched_df, areas_of_focus_columns], axis=1)\n",
    "expanded_enriched_df.drop(columns=['areas_of_focus_data'], inplace=True)\n",
    "\n",
    "def expand_domain_data(domain_data):\n",
    "    if pd.notnull(domain_data):\n",
    "        return {\n",
    "            'domain__top_level': domain_data.get('top_level', '').lower(),\n",
    "            'domain__sub_level': domain_data.get('sub_level', '').lower(),\n",
    "            'domain__detailed_level': domain_data.get('detailed_level', '').lower()\n",
    "        }\n",
    "    else:\n",
    "        return {\n",
    "            'domain__top_level': '',\n",
    "            'domain__sub_level': '',\n",
    "            'domain__detailed_level': ''\n",
    "        }\n",
    "\n",
    "domain_data_columns = expanded_enriched_df['domain_data'].map(expand_domain_data).apply(pd.Series)\n",
    "expanded_enriched_df = pd.concat([expanded_enriched_df, domain_data_columns], axis=1)\n",
    "expanded_enriched_df.drop(columns=['domain_data'], inplace=True)\n",
    "\n",
    "\n",
    "def extract_behavioural_tags(row):\n",
    "    data = row['behavioural_tags']\n",
    "    if pd.notnull(data) and 'behaviours' in data:\n",
    "        tags = data['behaviours']\n",
    "        return [\n",
    "            {\n",
    "                'task_link': row['task_link'],\n",
    "                'top_level': tag.get('top_level', '').lower(),\n",
    "                'sub_level': tag.get('sub_level', '').lower(),\n",
    "                'custom_category': tag.get('new_filled_category', False)\n",
    "            }\n",
    "            for tag in tags\n",
    "        ]\n",
    "    return []\n",
    "\n",
    "behavioural_tags_data = expanded_enriched_df.apply(extract_behavioural_tags, axis=1).explode()\n",
    "behavioural_tags_data = pd.DataFrame(behavioural_tags_data[~behavioural_tags_data.isna()].tolist())\n",
    "\n",
    "\n",
    "expanded_enriched_df.drop(columns=['behavioural_tags'], inplace=True)\n",
    "#cols = list(expanded_enriched_df.columns)\n",
    "#cols.append(cols.pop(cols.index('area_of_focus_custom_category')))\n",
    "#expanded_enriched_df = expanded_enriched_df[cols]\n",
    "\n",
    "\n",
    "\n",
    "\n",
    "import os\n",
    "\n",
    "def save_to_csv(df, dir_name, suffix):\n",
    "    filename = f'{base_filename}-{suffix}.csv'\n",
    "    path = os.path.join(dir_name, filename)\n",
    "    df.to_csv(path)\n",
    "\n",
    "base_filename = f'batches{\".\".join(map(str, BATCH_IDS))}_'\n",
    "base_filename += f'{\"full\" if LIMIT_ITEMS_TO_FIRST_N is None else str(LIMIT_ITEMS_TO_FIRST_N) + \"items\"}'\n",
    "from datetime import datetime\n",
    "timestamp = datetime.now().strftime('%Y-%m-%d_%H-%M-%S')\n",
    "bundle_dir = f'{DATA_DIR}/{base_filename}_{timestamp}'\n",
    "os.makedirs(bundle_dir, exist_ok=True)\n",
    "\n",
    "save_to_csv(expanded_enriched_df, bundle_dir, 'expanded_enriched_df')\n",
    "save_to_csv(use_case_tags_data, bundle_dir, 'use_case_tags')\n",
    "save_to_csv(behavioural_tags_data, bundle_dir, 'behavioural_tags')\n",
    "save_to_csv(programming_language_data, bundle_dir, 'programming_language_tags')\n",
    "save_to_csv(dependency_data, bundle_dir, 'dependency_tags')"
   ]
  },
  {
   "cell_type": "code",
   "execution_count": 127,
   "metadata": {},
   "outputs": [
    {
     "data": {
      "text/html": [
       "<div>\n",
       "<style scoped>\n",
       "    .dataframe tbody tr th:only-of-type {\n",
       "        vertical-align: middle;\n",
       "    }\n",
       "\n",
       "    .dataframe tbody tr th {\n",
       "        vertical-align: top;\n",
       "    }\n",
       "\n",
       "    .dataframe thead th {\n",
       "        text-align: right;\n",
       "    }\n",
       "</style>\n",
       "<table border=\"1\" class=\"dataframe\">\n",
       "  <thead>\n",
       "    <tr style=\"text-align: right;\">\n",
       "      <th></th>\n",
       "      <th>task_link</th>\n",
       "      <th>metadata__topic</th>\n",
       "      <th>number_of_turns</th>\n",
       "      <th>duration_mins</th>\n",
       "      <th>batch_id</th>\n",
       "      <th>use_case__summary</th>\n",
       "      <th>area_of_focus__top_level</th>\n",
       "      <th>area_of_focus__sub_level</th>\n",
       "      <th>area_of_focus__detailed_level</th>\n",
       "      <th>domain__top_level</th>\n",
       "      <th>domain__sub_level</th>\n",
       "      <th>domain__detailed_level</th>\n",
       "    </tr>\n",
       "  </thead>\n",
       "  <tbody>\n",
       "    <tr>\n",
       "      <th>33</th>\n",
       "      <td>https://colab.research.google.com/drive/1Iz1hQ...</td>\n",
       "      <td>algorithms &gt; by_topic &gt; bit_manipulation</td>\n",
       "      <td>1</td>\n",
       "      <td>10</td>\n",
       "      <td>1</td>\n",
       "      <td>The user is utilizing the Assistant to underst...</td>\n",
       "      <td>basic scripting</td>\n",
       "      <td>write simple code in python</td>\n",
       "      <td>bit manipulation</td>\n",
       "      <td>problem solving</td>\n",
       "      <td>algorithms</td>\n",
       "      <td>bit manipulation</td>\n",
       "    </tr>\n",
       "    <tr>\n",
       "      <th>223</th>\n",
       "      <td>https://colab.research.google.com/drive/1h1rav...</td>\n",
       "      <td>python_language_and_scripting &gt; memory_managem...</td>\n",
       "      <td>1</td>\n",
       "      <td>10</td>\n",
       "      <td>1</td>\n",
       "      <td>The user is utilizing the Assistant to solve a...</td>\n",
       "      <td>general coding help</td>\n",
       "      <td>refactor code</td>\n",
       "      <td>manage memory resources</td>\n",
       "      <td>python basics &amp; scripting</td>\n",
       "      <td>memory management</td>\n",
       "      <td>garbage collection</td>\n",
       "    </tr>\n",
       "    <tr>\n",
       "      <th>231</th>\n",
       "      <td>https://colab.research.google.com/drive/1hTG6I...</td>\n",
       "      <td>algorithms &gt; by_data_structure &gt; trees</td>\n",
       "      <td>1</td>\n",
       "      <td>10</td>\n",
       "      <td>1</td>\n",
       "      <td>The user is utilizing the Assistant to underst...</td>\n",
       "      <td>basic scripting</td>\n",
       "      <td>write simple code in python</td>\n",
       "      <td>merge binary trees</td>\n",
       "      <td>python basics &amp; scripting</td>\n",
       "      <td>data structures</td>\n",
       "      <td>binary trees</td>\n",
       "    </tr>\n",
       "    <tr>\n",
       "      <th>246</th>\n",
       "      <td>https://colab.research.google.com/drive/1ixtti...</td>\n",
       "      <td>algorithms &gt; by_topic &gt; counting</td>\n",
       "      <td>1</td>\n",
       "      <td>12</td>\n",
       "      <td>1</td>\n",
       "      <td>The user is utilizing the Assistant to learn h...</td>\n",
       "      <td>basic scripting</td>\n",
       "      <td>write simple code in python</td>\n",
       "      <td>word count function</td>\n",
       "      <td>python basics &amp; scripting</td>\n",
       "      <td>programming concepts</td>\n",
       "      <td>functions and data structures</td>\n",
       "    </tr>\n",
       "    <tr>\n",
       "      <th>288</th>\n",
       "      <td>https://colab.research.google.com/drive/1lZQ_X...</td>\n",
       "      <td>algorithms &gt; by_topic &gt; backtracking</td>\n",
       "      <td>1</td>\n",
       "      <td>15</td>\n",
       "      <td>1</td>\n",
       "      <td>The user is utilizing the Assistant to modify ...</td>\n",
       "      <td>basic scripting</td>\n",
       "      <td>write simple code in python</td>\n",
       "      <td>modify existing code</td>\n",
       "      <td>python basics &amp; scripting</td>\n",
       "      <td>python functions</td>\n",
       "      <td>function modification</td>\n",
       "    </tr>\n",
       "  </tbody>\n",
       "</table>\n",
       "</div>"
      ],
      "text/plain": [
       "                                             task_link  \\\n",
       "33   https://colab.research.google.com/drive/1Iz1hQ...   \n",
       "223  https://colab.research.google.com/drive/1h1rav...   \n",
       "231  https://colab.research.google.com/drive/1hTG6I...   \n",
       "246  https://colab.research.google.com/drive/1ixtti...   \n",
       "288  https://colab.research.google.com/drive/1lZQ_X...   \n",
       "\n",
       "                                       metadata__topic number_of_turns  \\\n",
       "33            algorithms > by_topic > bit_manipulation               1   \n",
       "223  python_language_and_scripting > memory_managem...               1   \n",
       "231             algorithms > by_data_structure > trees               1   \n",
       "246                   algorithms > by_topic > counting               1   \n",
       "288               algorithms > by_topic > backtracking               1   \n",
       "\n",
       "    duration_mins  batch_id  \\\n",
       "33             10         1   \n",
       "223            10         1   \n",
       "231            10         1   \n",
       "246            12         1   \n",
       "288            15         1   \n",
       "\n",
       "                                     use_case__summary  \\\n",
       "33   The user is utilizing the Assistant to underst...   \n",
       "223  The user is utilizing the Assistant to solve a...   \n",
       "231  The user is utilizing the Assistant to underst...   \n",
       "246  The user is utilizing the Assistant to learn h...   \n",
       "288  The user is utilizing the Assistant to modify ...   \n",
       "\n",
       "    area_of_focus__top_level     area_of_focus__sub_level  \\\n",
       "33           basic scripting  write simple code in python   \n",
       "223      general coding help                refactor code   \n",
       "231          basic scripting  write simple code in python   \n",
       "246          basic scripting  write simple code in python   \n",
       "288          basic scripting  write simple code in python   \n",
       "\n",
       "    area_of_focus__detailed_level          domain__top_level  \\\n",
       "33               bit manipulation            problem solving   \n",
       "223       manage memory resources  python basics & scripting   \n",
       "231            merge binary trees  python basics & scripting   \n",
       "246           word count function  python basics & scripting   \n",
       "288          modify existing code  python basics & scripting   \n",
       "\n",
       "        domain__sub_level         domain__detailed_level  \n",
       "33             algorithms               bit manipulation  \n",
       "223     memory management             garbage collection  \n",
       "231       data structures                   binary trees  \n",
       "246  programming concepts  functions and data structures  \n",
       "288      python functions          function modification  "
      ]
     },
     "execution_count": 127,
     "metadata": {},
     "output_type": "execute_result"
    }
   ],
   "source": [
    "expanded_enriched_df.head(5)"
   ]
  },
  {
   "cell_type": "code",
   "execution_count": 128,
   "metadata": {},
   "outputs": [
    {
     "data": {
      "text/html": [
       "<div>\n",
       "<style scoped>\n",
       "    .dataframe tbody tr th:only-of-type {\n",
       "        vertical-align: middle;\n",
       "    }\n",
       "\n",
       "    .dataframe tbody tr th {\n",
       "        vertical-align: top;\n",
       "    }\n",
       "\n",
       "    .dataframe thead th {\n",
       "        text-align: right;\n",
       "    }\n",
       "</style>\n",
       "<table border=\"1\" class=\"dataframe\">\n",
       "  <thead>\n",
       "    <tr style=\"text-align: right;\">\n",
       "      <th></th>\n",
       "      <th>task_link</th>\n",
       "      <th>tag</th>\n",
       "    </tr>\n",
       "  </thead>\n",
       "  <tbody>\n",
       "    <tr>\n",
       "      <th>0</th>\n",
       "      <td>https://colab.research.google.com/drive/1Iz1hQ...</td>\n",
       "      <td>programming</td>\n",
       "    </tr>\n",
       "    <tr>\n",
       "      <th>1</th>\n",
       "      <td>https://colab.research.google.com/drive/1Iz1hQ...</td>\n",
       "      <td>python</td>\n",
       "    </tr>\n",
       "    <tr>\n",
       "      <th>2</th>\n",
       "      <td>https://colab.research.google.com/drive/1Iz1hQ...</td>\n",
       "      <td>bit manipulation</td>\n",
       "    </tr>\n",
       "    <tr>\n",
       "      <th>3</th>\n",
       "      <td>https://colab.research.google.com/drive/1Iz1hQ...</td>\n",
       "      <td>learning</td>\n",
       "    </tr>\n",
       "    <tr>\n",
       "      <th>4</th>\n",
       "      <td>https://colab.research.google.com/drive/1Iz1hQ...</td>\n",
       "      <td>code example</td>\n",
       "    </tr>\n",
       "  </tbody>\n",
       "</table>\n",
       "</div>"
      ],
      "text/plain": [
       "                                           task_link               tag\n",
       "0  https://colab.research.google.com/drive/1Iz1hQ...       programming\n",
       "1  https://colab.research.google.com/drive/1Iz1hQ...            python\n",
       "2  https://colab.research.google.com/drive/1Iz1hQ...  bit manipulation\n",
       "3  https://colab.research.google.com/drive/1Iz1hQ...          learning\n",
       "4  https://colab.research.google.com/drive/1Iz1hQ...      code example"
      ]
     },
     "execution_count": 128,
     "metadata": {},
     "output_type": "execute_result"
    }
   ],
   "source": [
    "use_case_tags_data.head(5)"
   ]
  },
  {
   "cell_type": "code",
   "execution_count": 129,
   "metadata": {},
   "outputs": [
    {
     "data": {
      "text/html": [
       "<div>\n",
       "<style scoped>\n",
       "    .dataframe tbody tr th:only-of-type {\n",
       "        vertical-align: middle;\n",
       "    }\n",
       "\n",
       "    .dataframe tbody tr th {\n",
       "        vertical-align: top;\n",
       "    }\n",
       "\n",
       "    .dataframe thead th {\n",
       "        text-align: right;\n",
       "    }\n",
       "</style>\n",
       "<table border=\"1\" class=\"dataframe\">\n",
       "  <thead>\n",
       "    <tr style=\"text-align: right;\">\n",
       "      <th></th>\n",
       "      <th>task_link</th>\n",
       "      <th>top_level</th>\n",
       "      <th>sub_level</th>\n",
       "      <th>custom_category</th>\n",
       "    </tr>\n",
       "  </thead>\n",
       "  <tbody>\n",
       "    <tr>\n",
       "      <th>0</th>\n",
       "      <td>https://colab.research.google.com/drive/1Iz1hQ...</td>\n",
       "      <td>continuation follow up</td>\n",
       "      <td>incrementally build</td>\n",
       "      <td>False</td>\n",
       "    </tr>\n",
       "    <tr>\n",
       "      <th>1</th>\n",
       "      <td>https://colab.research.google.com/drive/1Iz1hQ...</td>\n",
       "      <td>respond to assistant</td>\n",
       "      <td>answer a question</td>\n",
       "      <td>False</td>\n",
       "    </tr>\n",
       "    <tr>\n",
       "      <th>2</th>\n",
       "      <td>https://colab.research.google.com/drive/1h1rav...</td>\n",
       "      <td>continuation follow up</td>\n",
       "      <td>supplement/extend</td>\n",
       "      <td>False</td>\n",
       "    </tr>\n",
       "    <tr>\n",
       "      <th>3</th>\n",
       "      <td>https://colab.research.google.com/drive/1h1rav...</td>\n",
       "      <td>respond to assistant</td>\n",
       "      <td>answer a question</td>\n",
       "      <td>False</td>\n",
       "    </tr>\n",
       "    <tr>\n",
       "      <th>4</th>\n",
       "      <td>https://colab.research.google.com/drive/1hTG6I...</td>\n",
       "      <td>continuation follow up</td>\n",
       "      <td>incrementally build</td>\n",
       "      <td>False</td>\n",
       "    </tr>\n",
       "  </tbody>\n",
       "</table>\n",
       "</div>"
      ],
      "text/plain": [
       "                                           task_link               top_level  \\\n",
       "0  https://colab.research.google.com/drive/1Iz1hQ...  continuation follow up   \n",
       "1  https://colab.research.google.com/drive/1Iz1hQ...    respond to assistant   \n",
       "2  https://colab.research.google.com/drive/1h1rav...  continuation follow up   \n",
       "3  https://colab.research.google.com/drive/1h1rav...    respond to assistant   \n",
       "4  https://colab.research.google.com/drive/1hTG6I...  continuation follow up   \n",
       "\n",
       "             sub_level  custom_category  \n",
       "0  incrementally build            False  \n",
       "1    answer a question            False  \n",
       "2    supplement/extend            False  \n",
       "3    answer a question            False  \n",
       "4  incrementally build            False  "
      ]
     },
     "execution_count": 129,
     "metadata": {},
     "output_type": "execute_result"
    }
   ],
   "source": [
    "behavioural_tags_data.head(5)"
   ]
  },
  {
   "cell_type": "code",
   "execution_count": 130,
   "metadata": {},
   "outputs": [
    {
     "data": {
      "text/html": [
       "<div>\n",
       "<style scoped>\n",
       "    .dataframe tbody tr th:only-of-type {\n",
       "        vertical-align: middle;\n",
       "    }\n",
       "\n",
       "    .dataframe tbody tr th {\n",
       "        vertical-align: top;\n",
       "    }\n",
       "\n",
       "    .dataframe thead th {\n",
       "        text-align: right;\n",
       "    }\n",
       "</style>\n",
       "<table border=\"1\" class=\"dataframe\">\n",
       "  <thead>\n",
       "    <tr style=\"text-align: right;\">\n",
       "      <th></th>\n",
       "      <th>task_link</th>\n",
       "      <th>language</th>\n",
       "      <th>percentage</th>\n",
       "    </tr>\n",
       "  </thead>\n",
       "  <tbody>\n",
       "    <tr>\n",
       "      <th>0</th>\n",
       "      <td>https://colab.research.google.com/drive/1Iz1hQ...</td>\n",
       "      <td>python</td>\n",
       "      <td>1.0</td>\n",
       "    </tr>\n",
       "    <tr>\n",
       "      <th>1</th>\n",
       "      <td>https://colab.research.google.com/drive/1h1rav...</td>\n",
       "      <td>python</td>\n",
       "      <td>1.0</td>\n",
       "    </tr>\n",
       "    <tr>\n",
       "      <th>2</th>\n",
       "      <td>https://colab.research.google.com/drive/1hTG6I...</td>\n",
       "      <td>python</td>\n",
       "      <td>1.0</td>\n",
       "    </tr>\n",
       "    <tr>\n",
       "      <th>3</th>\n",
       "      <td>https://colab.research.google.com/drive/1ixtti...</td>\n",
       "      <td>python</td>\n",
       "      <td>1.0</td>\n",
       "    </tr>\n",
       "    <tr>\n",
       "      <th>4</th>\n",
       "      <td>https://colab.research.google.com/drive/1lZQ_X...</td>\n",
       "      <td>python</td>\n",
       "      <td>1.0</td>\n",
       "    </tr>\n",
       "  </tbody>\n",
       "</table>\n",
       "</div>"
      ],
      "text/plain": [
       "                                           task_link language  percentage\n",
       "0  https://colab.research.google.com/drive/1Iz1hQ...   python         1.0\n",
       "1  https://colab.research.google.com/drive/1h1rav...   python         1.0\n",
       "2  https://colab.research.google.com/drive/1hTG6I...   python         1.0\n",
       "3  https://colab.research.google.com/drive/1ixtti...   python         1.0\n",
       "4  https://colab.research.google.com/drive/1lZQ_X...   python         1.0"
      ]
     },
     "execution_count": 130,
     "metadata": {},
     "output_type": "execute_result"
    }
   ],
   "source": [
    "programming_language_data.head(5)"
   ]
  },
  {
   "cell_type": "code",
   "execution_count": 131,
   "metadata": {},
   "outputs": [
    {
     "data": {
      "text/html": [
       "<div>\n",
       "<style scoped>\n",
       "    .dataframe tbody tr th:only-of-type {\n",
       "        vertical-align: middle;\n",
       "    }\n",
       "\n",
       "    .dataframe tbody tr th {\n",
       "        vertical-align: top;\n",
       "    }\n",
       "\n",
       "    .dataframe thead th {\n",
       "        text-align: right;\n",
       "    }\n",
       "</style>\n",
       "<table border=\"1\" class=\"dataframe\">\n",
       "  <thead>\n",
       "    <tr style=\"text-align: right;\">\n",
       "      <th></th>\n",
       "      <th>task_link</th>\n",
       "      <th>dependency</th>\n",
       "      <th>percentage</th>\n",
       "    </tr>\n",
       "  </thead>\n",
       "  <tbody>\n",
       "    <tr>\n",
       "      <th>0</th>\n",
       "      <td>https://colab.research.google.com/drive/1h1rav...</td>\n",
       "      <td>vanilla python</td>\n",
       "      <td>1.0</td>\n",
       "    </tr>\n",
       "    <tr>\n",
       "      <th>1</th>\n",
       "      <td>https://colab.research.google.com/drive/1hTG6I...</td>\n",
       "      <td>vanilla python</td>\n",
       "      <td>1.0</td>\n",
       "    </tr>\n",
       "    <tr>\n",
       "      <th>2</th>\n",
       "      <td>https://colab.research.google.com/drive/1YW-M2...</td>\n",
       "      <td>unittest</td>\n",
       "      <td>0.5</td>\n",
       "    </tr>\n",
       "    <tr>\n",
       "      <th>3</th>\n",
       "      <td>https://colab.research.google.com/drive/1-MuAA...</td>\n",
       "      <td>vanilla python</td>\n",
       "      <td>1.0</td>\n",
       "    </tr>\n",
       "    <tr>\n",
       "      <th>4</th>\n",
       "      <td>https://colab.research.google.com/drive/1xepiQ...</td>\n",
       "      <td>pandas</td>\n",
       "      <td>1.0</td>\n",
       "    </tr>\n",
       "  </tbody>\n",
       "</table>\n",
       "</div>"
      ],
      "text/plain": [
       "                                           task_link      dependency  \\\n",
       "0  https://colab.research.google.com/drive/1h1rav...  vanilla python   \n",
       "1  https://colab.research.google.com/drive/1hTG6I...  vanilla python   \n",
       "2  https://colab.research.google.com/drive/1YW-M2...        unittest   \n",
       "3  https://colab.research.google.com/drive/1-MuAA...  vanilla python   \n",
       "4  https://colab.research.google.com/drive/1xepiQ...          pandas   \n",
       "\n",
       "   percentage  \n",
       "0         1.0  \n",
       "1         1.0  \n",
       "2         0.5  \n",
       "3         1.0  \n",
       "4         1.0  "
      ]
     },
     "execution_count": 131,
     "metadata": {},
     "output_type": "execute_result"
    }
   ],
   "source": [
    "dependency_data.head(5)"
   ]
  },
  {
   "cell_type": "code",
   "execution_count": 121,
   "metadata": {},
   "outputs": [],
   "source": [
    "\n",
    "import gspread\n",
    "from gspread_dataframe import set_with_dataframe\n",
    "\n",
    "from utils import service_account_path\n",
    "\n",
    "PROD_OUTPUT_SHEET_URL = \"https://docs.google.com/spreadsheets/d/1wUWll720oz6Rnc4YKHeWFWbZbTMWbda2rfVh8jPLU2g\"\n",
    "\n",
    "def set_sheet_with_df(sheet_url, sheet_name, df):\n",
    "    gc = gspread.service_account(filename=service_account_path)\n",
    "    sh = gc.open_by_url(sheet_url)\n",
    "    try:\n",
    "        worksheet = sh.worksheet(sheet_name)\n",
    "    except gspread.WorksheetNotFound:\n",
    "        worksheet = sh.add_worksheet(title=sheet_name, rows=1, cols=1)\n",
    "\n",
    "    set_with_dataframe(worksheet, df)"
   ]
  },
  {
   "cell_type": "code",
   "execution_count": 134,
   "metadata": {},
   "outputs": [
    {
     "name": "stdout",
     "output_type": "stream",
     "text": [
      "Updating sheet: Expanded Enriched Data\n",
      "Sheet Expanded Enriched Data updated successfully.\n",
      "------------------------------------------------------------\n",
      "Updating sheet: Use Case Tags\n",
      "Sheet Use Case Tags updated successfully.\n",
      "------------------------------------------------------------\n",
      "Updating sheet: Behavioural Tags\n",
      "Sheet Behavioural Tags updated successfully.\n",
      "------------------------------------------------------------\n",
      "Updating sheet: Programming Language Tags\n",
      "Sheet Programming Language Tags updated successfully.\n",
      "------------------------------------------------------------\n",
      "Updating sheet: Dependency Tags\n",
      "Sheet Dependency Tags updated successfully.\n",
      "------------------------------------------------------------\n"
     ]
    }
   ],
   "source": [
    "sheet_names_and_dataframes = [\n",
    "    ('Expanded Enriched Data', expanded_enriched_df),\n",
    "    ('Use Case Tags', use_case_tags_data),\n",
    "    ('Behavioural Tags', behavioural_tags_data),\n",
    "    ('Programming Language Tags', programming_language_data),\n",
    "    ('Dependency Tags', dependency_data)\n",
    "]\n",
    "\n",
    "for sheet_name, dataframe in sheet_names_and_dataframes:\n",
    "    print(f\"Updating sheet: {sheet_name}\")\n",
    "    set_sheet_with_df(PROD_OUTPUT_SHEET_URL, sheet_name, dataframe)\n",
    "    print(f\"Sheet {sheet_name} updated successfully.\")\n",
    "    print('-'*60)\n"
   ]
  },
  {
   "cell_type": "code",
   "execution_count": 20,
   "metadata": {},
   "outputs": [
    {
     "data": {
      "text/plain": [
       "Index(['task_link', 'top_level', 'sub_level', 'custom_category'], dtype='object')"
      ]
     },
     "execution_count": 20,
     "metadata": {},
     "output_type": "execute_result"
    }
   ],
   "source": [
    "behavioural_tags_data.columns"
   ]
  },
  {
   "cell_type": "code",
   "execution_count": 33,
   "metadata": {},
   "outputs": [
    {
     "data": {
      "application/vnd.plotly.v1+json": {
       "config": {
        "plotlyServerURL": "https://plot.ly"
       },
       "data": [
        {
         "branchvalues": "total",
         "domain": {
          "x": [
           0,
           1
          ],
          "y": [
           0,
           1
          ]
         },
         "hovertemplate": "labels=%{label}<br>count=%{value}<br>parent=%{parent}<br>id=%{id}<extra></extra>",
         "ids": [
          "Respond to Assistant/Answer a question",
          "Continuation Follow up/Incrementally Build",
          "Continuation Follow up/Integrate with something else",
          "Other/Provide Example",
          "Continuation Follow up/Request alternatives",
          "Continuation Follow up/Request for clarification/elaboration",
          "Continuation Follow up/Supplement/Extend",
          "User actions/User makes mistakes",
          "Continuation Follow up",
          "Other",
          "Respond to Assistant",
          "User actions"
         ],
         "labels": [
          "Answer a question",
          "Incrementally Build",
          "Integrate with something else",
          "Provide Example",
          "Request alternatives",
          "Request for clarification/elaboration",
          "Supplement/Extend",
          "User makes mistakes",
          "Continuation Follow up",
          "Other",
          "Respond to Assistant",
          "User actions"
         ],
         "name": "",
         "parents": [
          "Respond to Assistant",
          "Continuation Follow up",
          "Continuation Follow up",
          "Other",
          "Continuation Follow up",
          "Continuation Follow up",
          "Continuation Follow up",
          "User actions",
          "",
          "",
          "",
          ""
         ],
         "type": "treemap",
         "values": [
          8,
          8,
          2,
          1,
          1,
          4,
          3,
          1,
          18,
          1,
          8,
          1
         ]
        }
       ],
       "layout": {
        "font": {
         "family": "Courier New, monospace",
         "size": 18
        },
        "height": 800,
        "legend": {
         "tracegroupgap": 0
        },
        "margin": {
         "b": 50,
         "l": 50,
         "r": 50,
         "t": 100
        },
        "template": {
         "data": {
          "bar": [
           {
            "error_x": {
             "color": "#2a3f5f"
            },
            "error_y": {
             "color": "#2a3f5f"
            },
            "marker": {
             "line": {
              "color": "#E5ECF6",
              "width": 0.5
             },
             "pattern": {
              "fillmode": "overlay",
              "size": 10,
              "solidity": 0.2
             }
            },
            "type": "bar"
           }
          ],
          "barpolar": [
           {
            "marker": {
             "line": {
              "color": "#E5ECF6",
              "width": 0.5
             },
             "pattern": {
              "fillmode": "overlay",
              "size": 10,
              "solidity": 0.2
             }
            },
            "type": "barpolar"
           }
          ],
          "carpet": [
           {
            "aaxis": {
             "endlinecolor": "#2a3f5f",
             "gridcolor": "white",
             "linecolor": "white",
             "minorgridcolor": "white",
             "startlinecolor": "#2a3f5f"
            },
            "baxis": {
             "endlinecolor": "#2a3f5f",
             "gridcolor": "white",
             "linecolor": "white",
             "minorgridcolor": "white",
             "startlinecolor": "#2a3f5f"
            },
            "type": "carpet"
           }
          ],
          "choropleth": [
           {
            "colorbar": {
             "outlinewidth": 0,
             "ticks": ""
            },
            "type": "choropleth"
           }
          ],
          "contour": [
           {
            "colorbar": {
             "outlinewidth": 0,
             "ticks": ""
            },
            "colorscale": [
             [
              0,
              "#0d0887"
             ],
             [
              0.1111111111111111,
              "#46039f"
             ],
             [
              0.2222222222222222,
              "#7201a8"
             ],
             [
              0.3333333333333333,
              "#9c179e"
             ],
             [
              0.4444444444444444,
              "#bd3786"
             ],
             [
              0.5555555555555556,
              "#d8576b"
             ],
             [
              0.6666666666666666,
              "#ed7953"
             ],
             [
              0.7777777777777778,
              "#fb9f3a"
             ],
             [
              0.8888888888888888,
              "#fdca26"
             ],
             [
              1,
              "#f0f921"
             ]
            ],
            "type": "contour"
           }
          ],
          "contourcarpet": [
           {
            "colorbar": {
             "outlinewidth": 0,
             "ticks": ""
            },
            "type": "contourcarpet"
           }
          ],
          "heatmap": [
           {
            "colorbar": {
             "outlinewidth": 0,
             "ticks": ""
            },
            "colorscale": [
             [
              0,
              "#0d0887"
             ],
             [
              0.1111111111111111,
              "#46039f"
             ],
             [
              0.2222222222222222,
              "#7201a8"
             ],
             [
              0.3333333333333333,
              "#9c179e"
             ],
             [
              0.4444444444444444,
              "#bd3786"
             ],
             [
              0.5555555555555556,
              "#d8576b"
             ],
             [
              0.6666666666666666,
              "#ed7953"
             ],
             [
              0.7777777777777778,
              "#fb9f3a"
             ],
             [
              0.8888888888888888,
              "#fdca26"
             ],
             [
              1,
              "#f0f921"
             ]
            ],
            "type": "heatmap"
           }
          ],
          "heatmapgl": [
           {
            "colorbar": {
             "outlinewidth": 0,
             "ticks": ""
            },
            "colorscale": [
             [
              0,
              "#0d0887"
             ],
             [
              0.1111111111111111,
              "#46039f"
             ],
             [
              0.2222222222222222,
              "#7201a8"
             ],
             [
              0.3333333333333333,
              "#9c179e"
             ],
             [
              0.4444444444444444,
              "#bd3786"
             ],
             [
              0.5555555555555556,
              "#d8576b"
             ],
             [
              0.6666666666666666,
              "#ed7953"
             ],
             [
              0.7777777777777778,
              "#fb9f3a"
             ],
             [
              0.8888888888888888,
              "#fdca26"
             ],
             [
              1,
              "#f0f921"
             ]
            ],
            "type": "heatmapgl"
           }
          ],
          "histogram": [
           {
            "marker": {
             "pattern": {
              "fillmode": "overlay",
              "size": 10,
              "solidity": 0.2
             }
            },
            "type": "histogram"
           }
          ],
          "histogram2d": [
           {
            "colorbar": {
             "outlinewidth": 0,
             "ticks": ""
            },
            "colorscale": [
             [
              0,
              "#0d0887"
             ],
             [
              0.1111111111111111,
              "#46039f"
             ],
             [
              0.2222222222222222,
              "#7201a8"
             ],
             [
              0.3333333333333333,
              "#9c179e"
             ],
             [
              0.4444444444444444,
              "#bd3786"
             ],
             [
              0.5555555555555556,
              "#d8576b"
             ],
             [
              0.6666666666666666,
              "#ed7953"
             ],
             [
              0.7777777777777778,
              "#fb9f3a"
             ],
             [
              0.8888888888888888,
              "#fdca26"
             ],
             [
              1,
              "#f0f921"
             ]
            ],
            "type": "histogram2d"
           }
          ],
          "histogram2dcontour": [
           {
            "colorbar": {
             "outlinewidth": 0,
             "ticks": ""
            },
            "colorscale": [
             [
              0,
              "#0d0887"
             ],
             [
              0.1111111111111111,
              "#46039f"
             ],
             [
              0.2222222222222222,
              "#7201a8"
             ],
             [
              0.3333333333333333,
              "#9c179e"
             ],
             [
              0.4444444444444444,
              "#bd3786"
             ],
             [
              0.5555555555555556,
              "#d8576b"
             ],
             [
              0.6666666666666666,
              "#ed7953"
             ],
             [
              0.7777777777777778,
              "#fb9f3a"
             ],
             [
              0.8888888888888888,
              "#fdca26"
             ],
             [
              1,
              "#f0f921"
             ]
            ],
            "type": "histogram2dcontour"
           }
          ],
          "mesh3d": [
           {
            "colorbar": {
             "outlinewidth": 0,
             "ticks": ""
            },
            "type": "mesh3d"
           }
          ],
          "parcoords": [
           {
            "line": {
             "colorbar": {
              "outlinewidth": 0,
              "ticks": ""
             }
            },
            "type": "parcoords"
           }
          ],
          "pie": [
           {
            "automargin": true,
            "type": "pie"
           }
          ],
          "scatter": [
           {
            "fillpattern": {
             "fillmode": "overlay",
             "size": 10,
             "solidity": 0.2
            },
            "type": "scatter"
           }
          ],
          "scatter3d": [
           {
            "line": {
             "colorbar": {
              "outlinewidth": 0,
              "ticks": ""
             }
            },
            "marker": {
             "colorbar": {
              "outlinewidth": 0,
              "ticks": ""
             }
            },
            "type": "scatter3d"
           }
          ],
          "scattercarpet": [
           {
            "marker": {
             "colorbar": {
              "outlinewidth": 0,
              "ticks": ""
             }
            },
            "type": "scattercarpet"
           }
          ],
          "scattergeo": [
           {
            "marker": {
             "colorbar": {
              "outlinewidth": 0,
              "ticks": ""
             }
            },
            "type": "scattergeo"
           }
          ],
          "scattergl": [
           {
            "marker": {
             "colorbar": {
              "outlinewidth": 0,
              "ticks": ""
             }
            },
            "type": "scattergl"
           }
          ],
          "scattermapbox": [
           {
            "marker": {
             "colorbar": {
              "outlinewidth": 0,
              "ticks": ""
             }
            },
            "type": "scattermapbox"
           }
          ],
          "scatterpolar": [
           {
            "marker": {
             "colorbar": {
              "outlinewidth": 0,
              "ticks": ""
             }
            },
            "type": "scatterpolar"
           }
          ],
          "scatterpolargl": [
           {
            "marker": {
             "colorbar": {
              "outlinewidth": 0,
              "ticks": ""
             }
            },
            "type": "scatterpolargl"
           }
          ],
          "scatterternary": [
           {
            "marker": {
             "colorbar": {
              "outlinewidth": 0,
              "ticks": ""
             }
            },
            "type": "scatterternary"
           }
          ],
          "surface": [
           {
            "colorbar": {
             "outlinewidth": 0,
             "ticks": ""
            },
            "colorscale": [
             [
              0,
              "#0d0887"
             ],
             [
              0.1111111111111111,
              "#46039f"
             ],
             [
              0.2222222222222222,
              "#7201a8"
             ],
             [
              0.3333333333333333,
              "#9c179e"
             ],
             [
              0.4444444444444444,
              "#bd3786"
             ],
             [
              0.5555555555555556,
              "#d8576b"
             ],
             [
              0.6666666666666666,
              "#ed7953"
             ],
             [
              0.7777777777777778,
              "#fb9f3a"
             ],
             [
              0.8888888888888888,
              "#fdca26"
             ],
             [
              1,
              "#f0f921"
             ]
            ],
            "type": "surface"
           }
          ],
          "table": [
           {
            "cells": {
             "fill": {
              "color": "#EBF0F8"
             },
             "line": {
              "color": "white"
             }
            },
            "header": {
             "fill": {
              "color": "#C8D4E3"
             },
             "line": {
              "color": "white"
             }
            },
            "type": "table"
           }
          ]
         },
         "layout": {
          "annotationdefaults": {
           "arrowcolor": "#2a3f5f",
           "arrowhead": 0,
           "arrowwidth": 1
          },
          "autotypenumbers": "strict",
          "coloraxis": {
           "colorbar": {
            "outlinewidth": 0,
            "ticks": ""
           }
          },
          "colorscale": {
           "diverging": [
            [
             0,
             "#8e0152"
            ],
            [
             0.1,
             "#c51b7d"
            ],
            [
             0.2,
             "#de77ae"
            ],
            [
             0.3,
             "#f1b6da"
            ],
            [
             0.4,
             "#fde0ef"
            ],
            [
             0.5,
             "#f7f7f7"
            ],
            [
             0.6,
             "#e6f5d0"
            ],
            [
             0.7,
             "#b8e186"
            ],
            [
             0.8,
             "#7fbc41"
            ],
            [
             0.9,
             "#4d9221"
            ],
            [
             1,
             "#276419"
            ]
           ],
           "sequential": [
            [
             0,
             "#0d0887"
            ],
            [
             0.1111111111111111,
             "#46039f"
            ],
            [
             0.2222222222222222,
             "#7201a8"
            ],
            [
             0.3333333333333333,
             "#9c179e"
            ],
            [
             0.4444444444444444,
             "#bd3786"
            ],
            [
             0.5555555555555556,
             "#d8576b"
            ],
            [
             0.6666666666666666,
             "#ed7953"
            ],
            [
             0.7777777777777778,
             "#fb9f3a"
            ],
            [
             0.8888888888888888,
             "#fdca26"
            ],
            [
             1,
             "#f0f921"
            ]
           ],
           "sequentialminus": [
            [
             0,
             "#0d0887"
            ],
            [
             0.1111111111111111,
             "#46039f"
            ],
            [
             0.2222222222222222,
             "#7201a8"
            ],
            [
             0.3333333333333333,
             "#9c179e"
            ],
            [
             0.4444444444444444,
             "#bd3786"
            ],
            [
             0.5555555555555556,
             "#d8576b"
            ],
            [
             0.6666666666666666,
             "#ed7953"
            ],
            [
             0.7777777777777778,
             "#fb9f3a"
            ],
            [
             0.8888888888888888,
             "#fdca26"
            ],
            [
             1,
             "#f0f921"
            ]
           ]
          },
          "colorway": [
           "#636efa",
           "#EF553B",
           "#00cc96",
           "#ab63fa",
           "#FFA15A",
           "#19d3f3",
           "#FF6692",
           "#B6E880",
           "#FF97FF",
           "#FECB52"
          ],
          "font": {
           "color": "#2a3f5f"
          },
          "geo": {
           "bgcolor": "white",
           "lakecolor": "white",
           "landcolor": "#E5ECF6",
           "showlakes": true,
           "showland": true,
           "subunitcolor": "white"
          },
          "hoverlabel": {
           "align": "left"
          },
          "hovermode": "closest",
          "mapbox": {
           "style": "light"
          },
          "paper_bgcolor": "white",
          "plot_bgcolor": "#E5ECF6",
          "polar": {
           "angularaxis": {
            "gridcolor": "white",
            "linecolor": "white",
            "ticks": ""
           },
           "bgcolor": "#E5ECF6",
           "radialaxis": {
            "gridcolor": "white",
            "linecolor": "white",
            "ticks": ""
           }
          },
          "scene": {
           "xaxis": {
            "backgroundcolor": "#E5ECF6",
            "gridcolor": "white",
            "gridwidth": 2,
            "linecolor": "white",
            "showbackground": true,
            "ticks": "",
            "zerolinecolor": "white"
           },
           "yaxis": {
            "backgroundcolor": "#E5ECF6",
            "gridcolor": "white",
            "gridwidth": 2,
            "linecolor": "white",
            "showbackground": true,
            "ticks": "",
            "zerolinecolor": "white"
           },
           "zaxis": {
            "backgroundcolor": "#E5ECF6",
            "gridcolor": "white",
            "gridwidth": 2,
            "linecolor": "white",
            "showbackground": true,
            "ticks": "",
            "zerolinecolor": "white"
           }
          },
          "shapedefaults": {
           "line": {
            "color": "#2a3f5f"
           }
          },
          "ternary": {
           "aaxis": {
            "gridcolor": "white",
            "linecolor": "white",
            "ticks": ""
           },
           "baxis": {
            "gridcolor": "white",
            "linecolor": "white",
            "ticks": ""
           },
           "bgcolor": "#E5ECF6",
           "caxis": {
            "gridcolor": "white",
            "linecolor": "white",
            "ticks": ""
           }
          },
          "title": {
           "x": 0.05
          },
          "xaxis": {
           "automargin": true,
           "gridcolor": "white",
           "linecolor": "white",
           "ticks": "",
           "title": {
            "standoff": 15
           },
           "zerolinecolor": "white",
           "zerolinewidth": 2
          },
          "yaxis": {
           "automargin": true,
           "gridcolor": "white",
           "linecolor": "white",
           "ticks": "",
           "title": {
            "standoff": 15
           },
           "zerolinecolor": "white",
           "zerolinewidth": 2
          }
         }
        },
        "title": {
         "font": {
          "size": 24
         },
         "text": "Hierarchical Domain Classification"
        },
        "treemapcolorway": [
         "#326FDC",
         "#47ABFD",
         "#959595",
         "#FFFFFF",
         "#EFEFEF",
         "#000000"
        ],
        "width": 1200
       }
      }
     },
     "metadata": {},
     "output_type": "display_data"
    }
   ],
   "source": [
    "import pandas as pd\n",
    "import plotly.express as px\n",
    "from operations.delivery.split_analytics.utils import turing_palette\n",
    "\n",
    "\n",
    "turing_palette = [\n",
    "    \"#326FDC\",  # Celtic Blue\n",
    "    \"#47ABFD\",  # Argentinian Blue\n",
    "    \"#959595\",  # Battleship gray\n",
    "    \"#FFFFFF\",  # White\n",
    "    \"#EFEFEF\",  # Anti-flash white\n",
    "    \"#000000\",  # Black\n",
    "]\n",
    "\n",
    "df = behavioural_tags_data\n",
    "fig = px.treemap(\n",
    "    df, \n",
    "    path=['top_level', 'sub_level'], \n",
    "    title=\"Hierarchical Domain Classification\",\n",
    "    height=800,\n",
    "    width=1200,\n",
    "    color_discrete_sequence=turing_palette\n",
    ")\n",
    "fig.update_layout(\n",
    "    margin=dict(t=100, l=50, r=50, b=50),\n",
    "    title_font=dict(size=24),\n",
    "    font=dict(size=18, family='Courier New, monospace')\n",
    ")\n",
    "fig.show()"
   ]
  },
  {
   "cell_type": "code",
   "execution_count": 18,
   "metadata": {},
   "outputs": [
    {
     "data": {
      "image/png": "[encoded data removed]",
      "text/plain": [
       "<Figure size 1500x800 with 1 Axes>"
      ]
     },
     "metadata": {},
     "output_type": "display_data"
    }
   ],
   "source": [
    "import matplotlib.pyplot as plt\n",
    "import seaborn as sns\n",
    "\n",
    "# Plot hierarchical data of behavioural_tags_data\n",
    "def plot_hierarchical_data(df):\n",
    "    plt.figure(figsize=(15, 8))\n",
    "    sns.countplot(data=df, y='top_level', hue='sub_level', palette='viridis')\n",
    "    plt.title('Distribution of Behavioural Tags')\n",
    "    plt.xlabel('Count')\n",
    "    plt.ylabel('Top Level Categories')\n",
    "    plt.legend(title='Sub Level Categories', bbox_to_anchor=(1.05, 1), loc='upper left')\n",
    "    plt.tight_layout()\n",
    "    plt.show()\n",
    "\n",
    "plot_hierarchical_data(behavioural_tags_data)\n"
   ]
  },
  {
   "cell_type": "code",
   "execution_count": 19,
   "metadata": {},
   "outputs": [
    {
     "data": {
      "image/png": "[encoded data removed]",
      "text/plain": [
       "<Figure size 800x800 with 1 Axes>"
      ]
     },
     "metadata": {},
     "output_type": "display_data"
    },
    {
     "data": {
      "image/png": "[encoded data removed]",
      "text/plain": [
       "<Figure size 800x800 with 1 Axes>"
      ]
     },
     "metadata": {},
     "output_type": "display_data"
    }
   ],
   "source": [
    "import matplotlib.pyplot as plt\n",
    "\n",
    "# Plot pie chart for top level categories of behavioural_tags_data\n",
    "def plot_pie_chart(df, column, title):\n",
    "    plt.figure(figsize=(8, 8))\n",
    "    df[column].value_counts().plot.pie(autopct='%1.1f%%', startangle=90)\n",
    "    plt.title(title)\n",
    "    plt.ylabel('')  # Hide the y-label\n",
    "    plt.tight_layout()\n",
    "    plt.show()\n",
    "\n",
    "# Plot pie charts for top level and sub level categories\n",
    "plot_pie_chart(behavioural_tags_data, 'top_level', 'Distribution of Top Level Behavioural Tags')\n",
    "plot_pie_chart(behavioural_tags_data, 'sub_level', 'Distribution of Sub Level Behavioural Tags')\n"
   ]
  },
  {
   "cell_type": "code",
   "execution_count": 31,
   "metadata": {},
   "outputs": [
    {
     "name": "stdout",
     "output_type": "stream",
     "text": [
      "{'summary': \"The user is utilizing the Assistant to improve a programming function that reverses strings while maintaining the position of special characters. The user seeks guidance on modifying the code to achieve this functionality and engages in a collaborative coding session with the Assistant. The conversation involves sharing code snippets, discussing potential solutions, and refining the function to meet the specified requirements. The user's use case demonstrates a practical application of the Assistant's capabilities in software development and problem-solving.\", 'tags': ['software development', 'coding assistance', 'problem-solving', 'code refinement', 'collaborative programming']}\n",
      "{'top_level': 'General coding help', 'sub_level': 'Explain complex code snippets', 'detailed_level': 'Modifying a function to handle special cases', 'new_filled_category': False}\n",
      "{'behaviours': [{'top_level': 'Continuation Follow up', 'sub_level': 'Incrementally Build', 'detailed_level': \"User incrementally builds upon the assistant's initial code to achieve the desired functionality.\", 'new_filled_category': False}, {'top_level': 'Continuation Follow up', 'sub_level': 'Request for clarification/elaboration', 'detailed_level': 'Assistant requests clarification on how to modify the function to ignore special characters.', 'new_filled_category': False}, {'top_level': 'Respond to Assistant', 'sub_level': 'Answer a question', 'detailed_level': \"User provides a detailed answer to the assistant's question with code examples.\", 'new_filled_category': False}, {'top_level': 'Continuation Follow up', 'sub_level': 'Supplement/Extend', 'detailed_level': 'Assistant asks for further extension of the function to handle Unicode characters.', 'new_filled_category': False}]}\n"
     ]
    }
   ],
   "source": [
    "print(filtered_extended_delivered_df['use_case_data'].iloc[0])\n",
    "print(filtered_extended_delivered_df['areas_of_focus_data'].iloc[0])\n",
    "print(filtered_extended_delivered_df['behavioural_tags'].iloc[0])\n"
   ]
  },
  {
   "cell_type": "code",
   "execution_count": 19,
   "metadata": {},
   "outputs": [],
   "source": [
    "delivered4 = download_parse_delivered_into_jsonl([1,2,3,4], no_work=True)\n",
    "delivered_df = delivered4['delivered_df']\n",
    "conversations = delivered4['conversations']"
   ]
  },
  {
   "cell_type": "code",
   "execution_count": 20,
   "metadata": {},
   "outputs": [
    {
     "data": {
      "text/html": [
       "<div>\n",
       "<style scoped>\n",
       "    .dataframe tbody tr th:only-of-type {\n",
       "        vertical-align: middle;\n",
       "    }\n",
       "\n",
       "    .dataframe tbody tr th {\n",
       "        vertical-align: top;\n",
       "    }\n",
       "\n",
       "    .dataframe thead th {\n",
       "        text-align: right;\n",
       "    }\n",
       "</style>\n",
       "<table border=\"1\" class=\"dataframe\">\n",
       "  <thead>\n",
       "    <tr style=\"text-align: right;\">\n",
       "      <th></th>\n",
       "      <th>Top_Level_Category</th>\n",
       "      <th>Sub_Level_Category</th>\n",
       "      <th>Detailed_Level_Category</th>\n",
       "    </tr>\n",
       "  </thead>\n",
       "  <tbody>\n",
       "    <tr>\n",
       "      <th>0</th>\n",
       "      <td>User</td>\n",
       "      <td>Emotional Response</td>\n",
       "      <td>Confusion</td>\n",
       "    </tr>\n",
       "    <tr>\n",
       "      <th>1</th>\n",
       "      <td>User</td>\n",
       "      <td>Emotional Response</td>\n",
       "      <td>Frustration</td>\n",
       "    </tr>\n",
       "    <tr>\n",
       "      <th>2</th>\n",
       "      <td>User</td>\n",
       "      <td>Behavior</td>\n",
       "      <td>Self-Contradiction</td>\n",
       "    </tr>\n",
       "    <tr>\n",
       "      <th>3</th>\n",
       "      <td>User</td>\n",
       "      <td>Behavior</td>\n",
       "      <td>Error Identification</td>\n",
       "    </tr>\n",
       "    <tr>\n",
       "      <th>4</th>\n",
       "      <td>User</td>\n",
       "      <td>Behavior</td>\n",
       "      <td>Making Errors</td>\n",
       "    </tr>\n",
       "    <tr>\n",
       "      <th>5</th>\n",
       "      <td>User</td>\n",
       "      <td>Feedback</td>\n",
       "      <td>Satisfaction Expression</td>\n",
       "    </tr>\n",
       "    <tr>\n",
       "      <th>6</th>\n",
       "      <td>User</td>\n",
       "      <td>Feedback</td>\n",
       "      <td>Compliment Offering</td>\n",
       "    </tr>\n",
       "    <tr>\n",
       "      <th>7</th>\n",
       "      <td>User</td>\n",
       "      <td>Intent</td>\n",
       "      <td>Information Seeking</td>\n",
       "    </tr>\n",
       "    <tr>\n",
       "      <th>8</th>\n",
       "      <td>User</td>\n",
       "      <td>Intent</td>\n",
       "      <td>Transactional</td>\n",
       "    </tr>\n",
       "    <tr>\n",
       "      <th>9</th>\n",
       "      <td>User</td>\n",
       "      <td>Intent</td>\n",
       "      <td>Casual Interaction</td>\n",
       "    </tr>\n",
       "    <tr>\n",
       "      <th>10</th>\n",
       "      <td>User</td>\n",
       "      <td>Conversation Progression</td>\n",
       "      <td>Building Upon Discussion</td>\n",
       "    </tr>\n",
       "    <tr>\n",
       "      <th>11</th>\n",
       "      <td>User</td>\n",
       "      <td>Conversation Progression</td>\n",
       "      <td>Extending Scope</td>\n",
       "    </tr>\n",
       "    <tr>\n",
       "      <th>12</th>\n",
       "      <td>User</td>\n",
       "      <td>Conversation Progression</td>\n",
       "      <td>Seeking Clarification</td>\n",
       "    </tr>\n",
       "    <tr>\n",
       "      <th>13</th>\n",
       "      <td>User</td>\n",
       "      <td>Conversation Progression</td>\n",
       "      <td>Exploring Alternatives</td>\n",
       "    </tr>\n",
       "    <tr>\n",
       "      <th>14</th>\n",
       "      <td>User</td>\n",
       "      <td>Conversation Direction</td>\n",
       "      <td>Topic Shift</td>\n",
       "    </tr>\n",
       "    <tr>\n",
       "      <th>15</th>\n",
       "      <td>User</td>\n",
       "      <td>Conversation Direction</td>\n",
       "      <td>Goal Reassessment</td>\n",
       "    </tr>\n",
       "    <tr>\n",
       "      <th>16</th>\n",
       "      <td>Assistant</td>\n",
       "      <td>Interaction</td>\n",
       "      <td>Providing Information</td>\n",
       "    </tr>\n",
       "    <tr>\n",
       "      <th>17</th>\n",
       "      <td>Assistant</td>\n",
       "      <td>Interaction</td>\n",
       "      <td>Concluding Interaction</td>\n",
       "    </tr>\n",
       "    <tr>\n",
       "      <th>18</th>\n",
       "      <td>Assistant</td>\n",
       "      <td>Interaction</td>\n",
       "      <td>Resolving Ambiguities</td>\n",
       "    </tr>\n",
       "    <tr>\n",
       "      <th>19</th>\n",
       "      <td>Assistant</td>\n",
       "      <td>Performance</td>\n",
       "      <td>Misunderstanding</td>\n",
       "    </tr>\n",
       "    <tr>\n",
       "      <th>20</th>\n",
       "      <td>Assistant</td>\n",
       "      <td>Performance</td>\n",
       "      <td>Accurate Information</td>\n",
       "    </tr>\n",
       "    <tr>\n",
       "      <th>21</th>\n",
       "      <td>Assistant</td>\n",
       "      <td>Performance</td>\n",
       "      <td>Issue Escalation</td>\n",
       "    </tr>\n",
       "    <tr>\n",
       "      <th>22</th>\n",
       "      <td>Assistant</td>\n",
       "      <td>Technical Support</td>\n",
       "      <td>Issue Identification</td>\n",
       "    </tr>\n",
       "    <tr>\n",
       "      <th>23</th>\n",
       "      <td>Assistant</td>\n",
       "      <td>Technical Support</td>\n",
       "      <td>Support Provision</td>\n",
       "    </tr>\n",
       "    <tr>\n",
       "      <th>24</th>\n",
       "      <td>General</td>\n",
       "      <td>Conversation Closure</td>\n",
       "      <td>Satisfied Conclusion</td>\n",
       "    </tr>\n",
       "    <tr>\n",
       "      <th>25</th>\n",
       "      <td>General</td>\n",
       "      <td>Conversation Closure</td>\n",
       "      <td>Unsatisfied Conclusion</td>\n",
       "    </tr>\n",
       "    <tr>\n",
       "      <th>26</th>\n",
       "      <td>General</td>\n",
       "      <td>Conversation Closure</td>\n",
       "      <td>Inactive Termination</td>\n",
       "    </tr>\n",
       "  </tbody>\n",
       "</table>\n",
       "</div>"
      ],
      "text/plain": [
       "   Top_Level_Category        Sub_Level_Category   Detailed_Level_Category\n",
       "0                User        Emotional Response                 Confusion\n",
       "1                User        Emotional Response               Frustration\n",
       "2                User                  Behavior        Self-Contradiction\n",
       "3                User                  Behavior      Error Identification\n",
       "4                User                  Behavior             Making Errors\n",
       "5                User                  Feedback   Satisfaction Expression\n",
       "6                User                  Feedback       Compliment Offering\n",
       "7                User                    Intent       Information Seeking\n",
       "8                User                    Intent             Transactional\n",
       "9                User                    Intent        Casual Interaction\n",
       "10               User  Conversation Progression  Building Upon Discussion\n",
       "11               User  Conversation Progression           Extending Scope\n",
       "12               User  Conversation Progression     Seeking Clarification\n",
       "13               User  Conversation Progression    Exploring Alternatives\n",
       "14               User    Conversation Direction               Topic Shift\n",
       "15               User    Conversation Direction         Goal Reassessment\n",
       "16          Assistant               Interaction     Providing Information\n",
       "17          Assistant               Interaction    Concluding Interaction\n",
       "18          Assistant               Interaction     Resolving Ambiguities\n",
       "19          Assistant               Performance          Misunderstanding\n",
       "20          Assistant               Performance      Accurate Information\n",
       "21          Assistant               Performance          Issue Escalation\n",
       "22          Assistant         Technical Support      Issue Identification\n",
       "23          Assistant         Technical Support         Support Provision\n",
       "24            General      Conversation Closure      Satisfied Conclusion\n",
       "25            General      Conversation Closure    Unsatisfied Conclusion\n",
       "26            General      Conversation Closure      Inactive Termination"
      ]
     },
     "execution_count": 20,
     "metadata": {},
     "output_type": "execute_result"
    }
   ],
   "source": [
    "data = [\n",
    "    # User Behaviors\n",
    "    (\"User\", \"Emotional Response\", \"Confusion\"),\n",
    "    (\"User\", \"Emotional Response\", \"Frustration\"),\n",
    "    (\"User\", \"Behavior\", \"Self-Contradiction\"),\n",
    "    (\"User\", \"Behavior\", \"Error Identification\"),\n",
    "    (\"User\", \"Behavior\", \"Making Errors\"),\n",
    "    (\"User\", \"Feedback\", \"Satisfaction Expression\"),\n",
    "    (\"User\", \"Feedback\", \"Compliment Offering\"),\n",
    "    (\"User\", \"Intent\", \"Information Seeking\"),\n",
    "    (\"User\", \"Intent\", \"Transactional\"),\n",
    "    (\"User\", \"Intent\", \"Casual Interaction\"),\n",
    "    (\"User\", \"Conversation Progression\", \"Building Upon Discussion\"),\n",
    "    (\"User\", \"Conversation Progression\", \"Extending Scope\"),\n",
    "    (\"User\", \"Conversation Progression\", \"Seeking Clarification\"),\n",
    "    (\"User\", \"Conversation Progression\", \"Exploring Alternatives\"),\n",
    "    (\"User\", \"Conversation Direction\", \"Topic Shift\"),\n",
    "    (\"User\", \"Conversation Direction\", \"Goal Reassessment\"),\n",
    "    \n",
    "    # Assistant Behaviors\n",
    "    (\"Assistant\", \"Interaction\", \"Providing Information\"),\n",
    "    (\"Assistant\", \"Interaction\", \"Concluding Interaction\"),\n",
    "    (\"Assistant\", \"Interaction\", \"Resolving Ambiguities\"),\n",
    "    (\"Assistant\", \"Performance\", \"Misunderstanding\"),\n",
    "    (\"Assistant\", \"Performance\", \"Accurate Information\"),\n",
    "    (\"Assistant\", \"Performance\", \"Issue Escalation\"),\n",
    "    (\"Assistant\", \"Technical Support\", \"Issue Identification\"),\n",
    "    (\"Assistant\", \"Technical Support\", \"Support Provision\"),\n",
    "    \n",
    "    # Conversation Closure\n",
    "    (\"General\", \"Conversation Closure\", \"Satisfied Conclusion\"),\n",
    "    (\"General\", \"Conversation Closure\", \"Unsatisfied Conclusion\"),\n",
    "    (\"General\", \"Conversation Closure\", \"Inactive Termination\"),\n",
    "    \n",
    "    # Other categories can be added under \"General\" or other relevant top-level categories\n",
    "]\n",
    "\n",
    "\n",
    "import pandas as pd\n",
    "\n",
    "behavioural_tags_df2 = pd.DataFrame(data, columns=[\"Top_Level_Category\", \"Sub_Level_Category\", \"Detailed_Level_Category\"])\n",
    "behavioural_tags_df2\n",
    "\n",
    "\n",
    "\n",
    "\n"
   ]
  }
 ],
 "metadata": {
  "kernelspec": {
   "display_name": ".venv",
   "language": "python",
   "name": "python3"
  },
  "language_info": {
   "codemirror_mode": {
    "name": "ipython",
    "version": 3
   },
   "file_extension": ".py",
   "mimetype": "text/x-python",
   "name": "python",
   "nbconvert_exporter": "python",
   "pygments_lexer": "ipython3",
   "version": "3.9.18"
  }
 },
 "nbformat": 4,
 "nbformat_minor": 2
}
